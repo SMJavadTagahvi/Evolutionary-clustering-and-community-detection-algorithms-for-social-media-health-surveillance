{
  "cells": [
    {
      "cell_type": "code",
      "execution_count": 230,
      "metadata": {
        "id": "aBFc-f-64r32"
      },
      "outputs": [],
      "source": [
        "import pandas as pd\n",
        "import numpy as np"
      ]
    },
    {
      "cell_type": "markdown",
      "metadata": {},
      "source": [
        "# open dataset 1"
      ]
    },
    {
      "cell_type": "code",
      "execution_count": 231,
      "metadata": {
        "colab": {
          "base_uri": "https://localhost:8080/",
          "height": 423
        },
        "id": "Q6by5kQW45lH",
        "outputId": "047c3f72-bcd8-4c60-94a9-1d4f7592be88"
      },
      "outputs": [
        {
          "data": {
            "text/html": [
              "<div>\n",
              "<style scoped>\n",
              "    .dataframe tbody tr th:only-of-type {\n",
              "        vertical-align: middle;\n",
              "    }\n",
              "\n",
              "    .dataframe tbody tr th {\n",
              "        vertical-align: top;\n",
              "    }\n",
              "\n",
              "    .dataframe thead th {\n",
              "        text-align: right;\n",
              "    }\n",
              "</style>\n",
              "<table border=\"1\" class=\"dataframe\">\n",
              "  <thead>\n",
              "    <tr style=\"text-align: right;\">\n",
              "      <th></th>\n",
              "      <th>ID</th>\n",
              "      <th>City</th>\n",
              "      <th>State</th>\n",
              "      <th>Lat</th>\n",
              "      <th>Long</th>\n",
              "      <th>Time</th>\n",
              "    </tr>\n",
              "  </thead>\n",
              "  <tbody>\n",
              "    <tr>\n",
              "      <th>0</th>\n",
              "      <td>2548</td>\n",
              "      <td>Florida</td>\n",
              "      <td>Puerto Rico</td>\n",
              "      <td>18.3643</td>\n",
              "      <td>66.5611</td>\n",
              "      <td>0</td>\n",
              "    </tr>\n",
              "    <tr>\n",
              "      <th>1</th>\n",
              "      <td>724</td>\n",
              "      <td>Hampshire</td>\n",
              "      <td>Illinois</td>\n",
              "      <td>42.1124</td>\n",
              "      <td>88.5122</td>\n",
              "      <td>1</td>\n",
              "    </tr>\n",
              "    <tr>\n",
              "      <th>2</th>\n",
              "      <td>1943</td>\n",
              "      <td>San Antonio</td>\n",
              "      <td>Texas</td>\n",
              "      <td>29.4658</td>\n",
              "      <td>98.5253</td>\n",
              "      <td>2</td>\n",
              "    </tr>\n",
              "    <tr>\n",
              "      <th>3</th>\n",
              "      <td>2595</td>\n",
              "      <td>Florida</td>\n",
              "      <td>Puerto Rico</td>\n",
              "      <td>18.3643</td>\n",
              "      <td>66.5611</td>\n",
              "      <td>3</td>\n",
              "    </tr>\n",
              "    <tr>\n",
              "      <th>4</th>\n",
              "      <td>2494</td>\n",
              "      <td>Ontario</td>\n",
              "      <td>California</td>\n",
              "      <td>34.0393</td>\n",
              "      <td>117.6064</td>\n",
              "      <td>3</td>\n",
              "    </tr>\n",
              "    <tr>\n",
              "      <th>...</th>\n",
              "      <td>...</td>\n",
              "      <td>...</td>\n",
              "      <td>...</td>\n",
              "      <td>...</td>\n",
              "      <td>...</td>\n",
              "      <td>...</td>\n",
              "    </tr>\n",
              "    <tr>\n",
              "      <th>2998</th>\n",
              "      <td>2866</td>\n",
              "      <td>Akron</td>\n",
              "      <td>Ohio</td>\n",
              "      <td>41.0798</td>\n",
              "      <td>81.5219</td>\n",
              "      <td>1867</td>\n",
              "    </tr>\n",
              "    <tr>\n",
              "      <th>2999</th>\n",
              "      <td>1405</td>\n",
              "      <td>Melbourne</td>\n",
              "      <td>Florida</td>\n",
              "      <td>28.1085</td>\n",
              "      <td>80.6627</td>\n",
              "      <td>1868</td>\n",
              "    </tr>\n",
              "    <tr>\n",
              "      <th>3000</th>\n",
              "      <td>1276</td>\n",
              "      <td>Ohio</td>\n",
              "      <td>Illinois</td>\n",
              "      <td>41.5560</td>\n",
              "      <td>89.4606</td>\n",
              "      <td>1869</td>\n",
              "    </tr>\n",
              "    <tr>\n",
              "      <th>3001</th>\n",
              "      <td>901</td>\n",
              "      <td>Kirkwood</td>\n",
              "      <td>Missouri</td>\n",
              "      <td>38.5788</td>\n",
              "      <td>90.4203</td>\n",
              "      <td>1870</td>\n",
              "    </tr>\n",
              "    <tr>\n",
              "      <th>3002</th>\n",
              "      <td>1317</td>\n",
              "      <td>Parkland</td>\n",
              "      <td>Washington</td>\n",
              "      <td>47.1417</td>\n",
              "      <td>122.4376</td>\n",
              "      <td>1871</td>\n",
              "    </tr>\n",
              "  </tbody>\n",
              "</table>\n",
              "<p>3003 rows × 6 columns</p>\n",
              "</div>"
            ],
            "text/plain": [
              "        ID         City        State      Lat      Long  Time\n",
              "0     2548      Florida  Puerto Rico  18.3643   66.5611     0\n",
              "1      724    Hampshire     Illinois  42.1124   88.5122     1\n",
              "2     1943  San Antonio        Texas  29.4658   98.5253     2\n",
              "3     2595      Florida  Puerto Rico  18.3643   66.5611     3\n",
              "4     2494      Ontario   California  34.0393  117.6064     3\n",
              "...    ...          ...          ...      ...       ...   ...\n",
              "2998  2866        Akron         Ohio  41.0798   81.5219  1867\n",
              "2999  1405    Melbourne      Florida  28.1085   80.6627  1868\n",
              "3000  1276         Ohio     Illinois  41.5560   89.4606  1869\n",
              "3001   901     Kirkwood     Missouri  38.5788   90.4203  1870\n",
              "3002  1317     Parkland   Washington  47.1417  122.4376  1871\n",
              "\n",
              "[3003 rows x 6 columns]"
            ]
          },
          "execution_count": 231,
          "metadata": {},
          "output_type": "execute_result"
        }
      ],
      "source": [
        "dataset1 = pd.read_csv('encoded_twitter_dataset.csv')\n",
        "dataset1"
      ]
    },
    {
      "cell_type": "markdown",
      "metadata": {},
      "source": [
        "# drop 'City', 'State' but srt"
      ]
    },
    {
      "cell_type": "code",
      "execution_count": 232,
      "metadata": {
        "colab": {
          "base_uri": "https://localhost:8080/",
          "height": 423
        },
        "id": "X-zDxQLP47-7",
        "outputId": "49620a7f-69aa-4eed-bf68-4e50d9dff90b"
      },
      "outputs": [
        {
          "data": {
            "text/html": [
              "<div>\n",
              "<style scoped>\n",
              "    .dataframe tbody tr th:only-of-type {\n",
              "        vertical-align: middle;\n",
              "    }\n",
              "\n",
              "    .dataframe tbody tr th {\n",
              "        vertical-align: top;\n",
              "    }\n",
              "\n",
              "    .dataframe thead th {\n",
              "        text-align: right;\n",
              "    }\n",
              "</style>\n",
              "<table border=\"1\" class=\"dataframe\">\n",
              "  <thead>\n",
              "    <tr style=\"text-align: right;\">\n",
              "      <th></th>\n",
              "      <th>ID</th>\n",
              "      <th>Lat</th>\n",
              "      <th>Long</th>\n",
              "      <th>Time</th>\n",
              "    </tr>\n",
              "  </thead>\n",
              "  <tbody>\n",
              "    <tr>\n",
              "      <th>0</th>\n",
              "      <td>2548</td>\n",
              "      <td>18.3643</td>\n",
              "      <td>66.5611</td>\n",
              "      <td>0</td>\n",
              "    </tr>\n",
              "    <tr>\n",
              "      <th>1</th>\n",
              "      <td>724</td>\n",
              "      <td>42.1124</td>\n",
              "      <td>88.5122</td>\n",
              "      <td>1</td>\n",
              "    </tr>\n",
              "    <tr>\n",
              "      <th>2</th>\n",
              "      <td>1943</td>\n",
              "      <td>29.4658</td>\n",
              "      <td>98.5253</td>\n",
              "      <td>2</td>\n",
              "    </tr>\n",
              "    <tr>\n",
              "      <th>3</th>\n",
              "      <td>2595</td>\n",
              "      <td>18.3643</td>\n",
              "      <td>66.5611</td>\n",
              "      <td>3</td>\n",
              "    </tr>\n",
              "    <tr>\n",
              "      <th>4</th>\n",
              "      <td>2494</td>\n",
              "      <td>34.0393</td>\n",
              "      <td>117.6064</td>\n",
              "      <td>3</td>\n",
              "    </tr>\n",
              "    <tr>\n",
              "      <th>...</th>\n",
              "      <td>...</td>\n",
              "      <td>...</td>\n",
              "      <td>...</td>\n",
              "      <td>...</td>\n",
              "    </tr>\n",
              "    <tr>\n",
              "      <th>2998</th>\n",
              "      <td>2866</td>\n",
              "      <td>41.0798</td>\n",
              "      <td>81.5219</td>\n",
              "      <td>1867</td>\n",
              "    </tr>\n",
              "    <tr>\n",
              "      <th>2999</th>\n",
              "      <td>1405</td>\n",
              "      <td>28.1085</td>\n",
              "      <td>80.6627</td>\n",
              "      <td>1868</td>\n",
              "    </tr>\n",
              "    <tr>\n",
              "      <th>3000</th>\n",
              "      <td>1276</td>\n",
              "      <td>41.5560</td>\n",
              "      <td>89.4606</td>\n",
              "      <td>1869</td>\n",
              "    </tr>\n",
              "    <tr>\n",
              "      <th>3001</th>\n",
              "      <td>901</td>\n",
              "      <td>38.5788</td>\n",
              "      <td>90.4203</td>\n",
              "      <td>1870</td>\n",
              "    </tr>\n",
              "    <tr>\n",
              "      <th>3002</th>\n",
              "      <td>1317</td>\n",
              "      <td>47.1417</td>\n",
              "      <td>122.4376</td>\n",
              "      <td>1871</td>\n",
              "    </tr>\n",
              "  </tbody>\n",
              "</table>\n",
              "<p>3003 rows × 4 columns</p>\n",
              "</div>"
            ],
            "text/plain": [
              "        ID      Lat      Long  Time\n",
              "0     2548  18.3643   66.5611     0\n",
              "1      724  42.1124   88.5122     1\n",
              "2     1943  29.4658   98.5253     2\n",
              "3     2595  18.3643   66.5611     3\n",
              "4     2494  34.0393  117.6064     3\n",
              "...    ...      ...       ...   ...\n",
              "2998  2866  41.0798   81.5219  1867\n",
              "2999  1405  28.1085   80.6627  1868\n",
              "3000  1276  41.5560   89.4606  1869\n",
              "3001   901  38.5788   90.4203  1870\n",
              "3002  1317  47.1417  122.4376  1871\n",
              "\n",
              "[3003 rows x 4 columns]"
            ]
          },
          "execution_count": 232,
          "metadata": {},
          "output_type": "execute_result"
        }
      ],
      "source": [
        "dataset1.drop(['City', 'State'], axis=1, inplace=True)\n",
        "dataset1"
      ]
    },
    {
      "cell_type": "markdown",
      "metadata": {},
      "source": [
        "# open dataset 2 "
      ]
    },
    {
      "cell_type": "code",
      "execution_count": 233,
      "metadata": {
        "colab": {
          "base_uri": "https://localhost:8080/",
          "height": 1000
        },
        "id": "ECGEGfRvp3B3",
        "outputId": "5e3de006-3d39-4bdf-be39-7d6977204502"
      },
      "outputs": [
        {
          "data": {
            "text/html": [
              "<div>\n",
              "<style scoped>\n",
              "    .dataframe tbody tr th:only-of-type {\n",
              "        vertical-align: middle;\n",
              "    }\n",
              "\n",
              "    .dataframe tbody tr th {\n",
              "        vertical-align: top;\n",
              "    }\n",
              "\n",
              "    .dataframe thead th {\n",
              "        text-align: right;\n",
              "    }\n",
              "</style>\n",
              "<table border=\"1\" class=\"dataframe\">\n",
              "  <thead>\n",
              "    <tr style=\"text-align: right;\">\n",
              "      <th></th>\n",
              "      <th>city</th>\n",
              "      <th>city_ascii</th>\n",
              "      <th>state_id</th>\n",
              "      <th>state_name</th>\n",
              "      <th>county_fips</th>\n",
              "      <th>county_name</th>\n",
              "      <th>lat</th>\n",
              "      <th>lng</th>\n",
              "      <th>population</th>\n",
              "      <th>density</th>\n",
              "      <th>source</th>\n",
              "      <th>military</th>\n",
              "      <th>incorporated</th>\n",
              "      <th>timezone</th>\n",
              "      <th>ranking</th>\n",
              "      <th>zips</th>\n",
              "      <th>id</th>\n",
              "    </tr>\n",
              "  </thead>\n",
              "  <tbody>\n",
              "    <tr>\n",
              "      <th>0</th>\n",
              "      <td>New York</td>\n",
              "      <td>New York</td>\n",
              "      <td>NY</td>\n",
              "      <td>New York</td>\n",
              "      <td>36061</td>\n",
              "      <td>New York</td>\n",
              "      <td>40.6943</td>\n",
              "      <td>-73.9249</td>\n",
              "      <td>18713220.0</td>\n",
              "      <td>10715.0</td>\n",
              "      <td>polygon</td>\n",
              "      <td>False</td>\n",
              "      <td>True</td>\n",
              "      <td>America/New_York</td>\n",
              "      <td>1</td>\n",
              "      <td>11229 11226 11225 11224 11222 11221 11220 1138...</td>\n",
              "      <td>1840034016</td>\n",
              "    </tr>\n",
              "    <tr>\n",
              "      <th>1</th>\n",
              "      <td>Los Angeles</td>\n",
              "      <td>Los Angeles</td>\n",
              "      <td>CA</td>\n",
              "      <td>California</td>\n",
              "      <td>6037</td>\n",
              "      <td>Los Angeles</td>\n",
              "      <td>34.1139</td>\n",
              "      <td>-118.4068</td>\n",
              "      <td>12750807.0</td>\n",
              "      <td>3276.0</td>\n",
              "      <td>polygon</td>\n",
              "      <td>False</td>\n",
              "      <td>True</td>\n",
              "      <td>America/Los_Angeles</td>\n",
              "      <td>1</td>\n",
              "      <td>90291 90293 90292 91316 91311 90037 90031 9000...</td>\n",
              "      <td>1840020491</td>\n",
              "    </tr>\n",
              "    <tr>\n",
              "      <th>2</th>\n",
              "      <td>Chicago</td>\n",
              "      <td>Chicago</td>\n",
              "      <td>IL</td>\n",
              "      <td>Illinois</td>\n",
              "      <td>17031</td>\n",
              "      <td>Cook</td>\n",
              "      <td>41.8373</td>\n",
              "      <td>-87.6862</td>\n",
              "      <td>8604203.0</td>\n",
              "      <td>4574.0</td>\n",
              "      <td>polygon</td>\n",
              "      <td>False</td>\n",
              "      <td>True</td>\n",
              "      <td>America/Chicago</td>\n",
              "      <td>1</td>\n",
              "      <td>60018 60649 60641 60640 60643 60642 60645 6064...</td>\n",
              "      <td>1840000494</td>\n",
              "    </tr>\n",
              "    <tr>\n",
              "      <th>3</th>\n",
              "      <td>Miami</td>\n",
              "      <td>Miami</td>\n",
              "      <td>FL</td>\n",
              "      <td>Florida</td>\n",
              "      <td>12086</td>\n",
              "      <td>Miami-Dade</td>\n",
              "      <td>25.7839</td>\n",
              "      <td>-80.2102</td>\n",
              "      <td>6445545.0</td>\n",
              "      <td>5019.0</td>\n",
              "      <td>polygon</td>\n",
              "      <td>False</td>\n",
              "      <td>True</td>\n",
              "      <td>America/New_York</td>\n",
              "      <td>1</td>\n",
              "      <td>33129 33125 33126 33127 33128 33149 33144 3314...</td>\n",
              "      <td>1840015149</td>\n",
              "    </tr>\n",
              "    <tr>\n",
              "      <th>4</th>\n",
              "      <td>Dallas</td>\n",
              "      <td>Dallas</td>\n",
              "      <td>TX</td>\n",
              "      <td>Texas</td>\n",
              "      <td>48113</td>\n",
              "      <td>Dallas</td>\n",
              "      <td>32.7936</td>\n",
              "      <td>-96.7662</td>\n",
              "      <td>5743938.0</td>\n",
              "      <td>1526.0</td>\n",
              "      <td>polygon</td>\n",
              "      <td>False</td>\n",
              "      <td>True</td>\n",
              "      <td>America/Chicago</td>\n",
              "      <td>1</td>\n",
              "      <td>75287 75098 75233 75254 75251 75252 75253 7503...</td>\n",
              "      <td>1840019440</td>\n",
              "    </tr>\n",
              "    <tr>\n",
              "      <th>...</th>\n",
              "      <td>...</td>\n",
              "      <td>...</td>\n",
              "      <td>...</td>\n",
              "      <td>...</td>\n",
              "      <td>...</td>\n",
              "      <td>...</td>\n",
              "      <td>...</td>\n",
              "      <td>...</td>\n",
              "      <td>...</td>\n",
              "      <td>...</td>\n",
              "      <td>...</td>\n",
              "      <td>...</td>\n",
              "      <td>...</td>\n",
              "      <td>...</td>\n",
              "      <td>...</td>\n",
              "      <td>...</td>\n",
              "      <td>...</td>\n",
              "    </tr>\n",
              "    <tr>\n",
              "      <th>29483</th>\n",
              "      <td>Caputa</td>\n",
              "      <td>Caputa</td>\n",
              "      <td>SD</td>\n",
              "      <td>South Dakota</td>\n",
              "      <td>46103</td>\n",
              "      <td>Pennington</td>\n",
              "      <td>43.9960</td>\n",
              "      <td>-102.9847</td>\n",
              "      <td>0.0</td>\n",
              "      <td>0.0</td>\n",
              "      <td>polygon</td>\n",
              "      <td>False</td>\n",
              "      <td>False</td>\n",
              "      <td>America/Denver</td>\n",
              "      <td>3</td>\n",
              "      <td>57703</td>\n",
              "      <td>1840035951</td>\n",
              "    </tr>\n",
              "    <tr>\n",
              "      <th>29484</th>\n",
              "      <td>Hamill</td>\n",
              "      <td>Hamill</td>\n",
              "      <td>SD</td>\n",
              "      <td>South Dakota</td>\n",
              "      <td>46123</td>\n",
              "      <td>Tripp</td>\n",
              "      <td>43.5939</td>\n",
              "      <td>-99.6907</td>\n",
              "      <td>0.0</td>\n",
              "      <td>0.0</td>\n",
              "      <td>polygon</td>\n",
              "      <td>False</td>\n",
              "      <td>False</td>\n",
              "      <td>America/Chicago</td>\n",
              "      <td>3</td>\n",
              "      <td>57534</td>\n",
              "      <td>1840004186</td>\n",
              "    </tr>\n",
              "    <tr>\n",
              "      <th>29485</th>\n",
              "      <td>Loomis</td>\n",
              "      <td>Loomis</td>\n",
              "      <td>SD</td>\n",
              "      <td>South Dakota</td>\n",
              "      <td>46035</td>\n",
              "      <td>Davison</td>\n",
              "      <td>43.7931</td>\n",
              "      <td>-98.1036</td>\n",
              "      <td>0.0</td>\n",
              "      <td>0.0</td>\n",
              "      <td>polygon</td>\n",
              "      <td>False</td>\n",
              "      <td>False</td>\n",
              "      <td>America/Chicago</td>\n",
              "      <td>3</td>\n",
              "      <td>57301</td>\n",
              "      <td>1840004170</td>\n",
              "    </tr>\n",
              "    <tr>\n",
              "      <th>29486</th>\n",
              "      <td>Bijou Hills</td>\n",
              "      <td>Bijou Hills</td>\n",
              "      <td>SD</td>\n",
              "      <td>South Dakota</td>\n",
              "      <td>46015</td>\n",
              "      <td>Brule</td>\n",
              "      <td>43.5285</td>\n",
              "      <td>-99.1439</td>\n",
              "      <td>0.0</td>\n",
              "      <td>0.0</td>\n",
              "      <td>polygon</td>\n",
              "      <td>False</td>\n",
              "      <td>False</td>\n",
              "      <td>America/Chicago</td>\n",
              "      <td>3</td>\n",
              "      <td>57369</td>\n",
              "      <td>1840024011</td>\n",
              "    </tr>\n",
              "    <tr>\n",
              "      <th>29487</th>\n",
              "      <td>Ola</td>\n",
              "      <td>Ola</td>\n",
              "      <td>SD</td>\n",
              "      <td>South Dakota</td>\n",
              "      <td>46015</td>\n",
              "      <td>Brule</td>\n",
              "      <td>43.6005</td>\n",
              "      <td>-99.2114</td>\n",
              "      <td>0.0</td>\n",
              "      <td>0.0</td>\n",
              "      <td>polygon</td>\n",
              "      <td>False</td>\n",
              "      <td>False</td>\n",
              "      <td>America/Chicago</td>\n",
              "      <td>3</td>\n",
              "      <td>57325</td>\n",
              "      <td>1840024012</td>\n",
              "    </tr>\n",
              "  </tbody>\n",
              "</table>\n",
              "<p>29488 rows × 17 columns</p>\n",
              "</div>"
            ],
            "text/plain": [
              "              city   city_ascii state_id    state_name  county_fips  \\\n",
              "0         New York     New York       NY      New York        36061   \n",
              "1      Los Angeles  Los Angeles       CA    California         6037   \n",
              "2          Chicago      Chicago       IL      Illinois        17031   \n",
              "3            Miami        Miami       FL       Florida        12086   \n",
              "4           Dallas       Dallas       TX         Texas        48113   \n",
              "...            ...          ...      ...           ...          ...   \n",
              "29483       Caputa       Caputa       SD  South Dakota        46103   \n",
              "29484       Hamill       Hamill       SD  South Dakota        46123   \n",
              "29485       Loomis       Loomis       SD  South Dakota        46035   \n",
              "29486  Bijou Hills  Bijou Hills       SD  South Dakota        46015   \n",
              "29487          Ola          Ola       SD  South Dakota        46015   \n",
              "\n",
              "       county_name      lat       lng  population  density   source  military  \\\n",
              "0         New York  40.6943  -73.9249  18713220.0  10715.0  polygon     False   \n",
              "1      Los Angeles  34.1139 -118.4068  12750807.0   3276.0  polygon     False   \n",
              "2             Cook  41.8373  -87.6862   8604203.0   4574.0  polygon     False   \n",
              "3       Miami-Dade  25.7839  -80.2102   6445545.0   5019.0  polygon     False   \n",
              "4           Dallas  32.7936  -96.7662   5743938.0   1526.0  polygon     False   \n",
              "...            ...      ...       ...         ...      ...      ...       ...   \n",
              "29483   Pennington  43.9960 -102.9847         0.0      0.0  polygon     False   \n",
              "29484        Tripp  43.5939  -99.6907         0.0      0.0  polygon     False   \n",
              "29485      Davison  43.7931  -98.1036         0.0      0.0  polygon     False   \n",
              "29486        Brule  43.5285  -99.1439         0.0      0.0  polygon     False   \n",
              "29487        Brule  43.6005  -99.2114         0.0      0.0  polygon     False   \n",
              "\n",
              "       incorporated             timezone  ranking  \\\n",
              "0              True     America/New_York        1   \n",
              "1              True  America/Los_Angeles        1   \n",
              "2              True      America/Chicago        1   \n",
              "3              True     America/New_York        1   \n",
              "4              True      America/Chicago        1   \n",
              "...             ...                  ...      ...   \n",
              "29483         False       America/Denver        3   \n",
              "29484         False      America/Chicago        3   \n",
              "29485         False      America/Chicago        3   \n",
              "29486         False      America/Chicago        3   \n",
              "29487         False      America/Chicago        3   \n",
              "\n",
              "                                                    zips          id  \n",
              "0      11229 11226 11225 11224 11222 11221 11220 1138...  1840034016  \n",
              "1      90291 90293 90292 91316 91311 90037 90031 9000...  1840020491  \n",
              "2      60018 60649 60641 60640 60643 60642 60645 6064...  1840000494  \n",
              "3      33129 33125 33126 33127 33128 33149 33144 3314...  1840015149  \n",
              "4      75287 75098 75233 75254 75251 75252 75253 7503...  1840019440  \n",
              "...                                                  ...         ...  \n",
              "29483                                              57703  1840035951  \n",
              "29484                                              57534  1840004186  \n",
              "29485                                              57301  1840004170  \n",
              "29486                                              57369  1840024011  \n",
              "29487                                              57325  1840024012  \n",
              "\n",
              "[29488 rows x 17 columns]"
            ]
          },
          "execution_count": 233,
          "metadata": {},
          "output_type": "execute_result"
        }
      ],
      "source": [
        "dataset2 = pd.read_csv('uscities.csv')\n",
        "dataset2"
      ]
    },
    {
      "cell_type": "markdown",
      "metadata": {},
      "source": [
        "# drop 'city', 'city_ascii', 'state_id', 'state_name', 'county_name', 'source', 'timezone', 'zips' = str"
      ]
    },
    {
      "cell_type": "code",
      "execution_count": 234,
      "metadata": {
        "colab": {
          "base_uri": "https://localhost:8080/",
          "height": 423
        },
        "id": "oCxxe5verQN6",
        "outputId": "a707a30c-dfd1-41ea-ae93-ce3c2ab95c33"
      },
      "outputs": [
        {
          "data": {
            "text/html": [
              "<div>\n",
              "<style scoped>\n",
              "    .dataframe tbody tr th:only-of-type {\n",
              "        vertical-align: middle;\n",
              "    }\n",
              "\n",
              "    .dataframe tbody tr th {\n",
              "        vertical-align: top;\n",
              "    }\n",
              "\n",
              "    .dataframe thead th {\n",
              "        text-align: right;\n",
              "    }\n",
              "</style>\n",
              "<table border=\"1\" class=\"dataframe\">\n",
              "  <thead>\n",
              "    <tr style=\"text-align: right;\">\n",
              "      <th></th>\n",
              "      <th>county_fips</th>\n",
              "      <th>lat</th>\n",
              "      <th>lng</th>\n",
              "      <th>population</th>\n",
              "      <th>density</th>\n",
              "      <th>military</th>\n",
              "      <th>incorporated</th>\n",
              "      <th>ranking</th>\n",
              "      <th>id</th>\n",
              "    </tr>\n",
              "  </thead>\n",
              "  <tbody>\n",
              "    <tr>\n",
              "      <th>0</th>\n",
              "      <td>36061</td>\n",
              "      <td>40.6943</td>\n",
              "      <td>-73.9249</td>\n",
              "      <td>18713220.0</td>\n",
              "      <td>10715.0</td>\n",
              "      <td>False</td>\n",
              "      <td>True</td>\n",
              "      <td>1</td>\n",
              "      <td>1840034016</td>\n",
              "    </tr>\n",
              "    <tr>\n",
              "      <th>1</th>\n",
              "      <td>6037</td>\n",
              "      <td>34.1139</td>\n",
              "      <td>-118.4068</td>\n",
              "      <td>12750807.0</td>\n",
              "      <td>3276.0</td>\n",
              "      <td>False</td>\n",
              "      <td>True</td>\n",
              "      <td>1</td>\n",
              "      <td>1840020491</td>\n",
              "    </tr>\n",
              "    <tr>\n",
              "      <th>2</th>\n",
              "      <td>17031</td>\n",
              "      <td>41.8373</td>\n",
              "      <td>-87.6862</td>\n",
              "      <td>8604203.0</td>\n",
              "      <td>4574.0</td>\n",
              "      <td>False</td>\n",
              "      <td>True</td>\n",
              "      <td>1</td>\n",
              "      <td>1840000494</td>\n",
              "    </tr>\n",
              "    <tr>\n",
              "      <th>3</th>\n",
              "      <td>12086</td>\n",
              "      <td>25.7839</td>\n",
              "      <td>-80.2102</td>\n",
              "      <td>6445545.0</td>\n",
              "      <td>5019.0</td>\n",
              "      <td>False</td>\n",
              "      <td>True</td>\n",
              "      <td>1</td>\n",
              "      <td>1840015149</td>\n",
              "    </tr>\n",
              "    <tr>\n",
              "      <th>4</th>\n",
              "      <td>48113</td>\n",
              "      <td>32.7936</td>\n",
              "      <td>-96.7662</td>\n",
              "      <td>5743938.0</td>\n",
              "      <td>1526.0</td>\n",
              "      <td>False</td>\n",
              "      <td>True</td>\n",
              "      <td>1</td>\n",
              "      <td>1840019440</td>\n",
              "    </tr>\n",
              "    <tr>\n",
              "      <th>...</th>\n",
              "      <td>...</td>\n",
              "      <td>...</td>\n",
              "      <td>...</td>\n",
              "      <td>...</td>\n",
              "      <td>...</td>\n",
              "      <td>...</td>\n",
              "      <td>...</td>\n",
              "      <td>...</td>\n",
              "      <td>...</td>\n",
              "    </tr>\n",
              "    <tr>\n",
              "      <th>29483</th>\n",
              "      <td>46103</td>\n",
              "      <td>43.9960</td>\n",
              "      <td>-102.9847</td>\n",
              "      <td>0.0</td>\n",
              "      <td>0.0</td>\n",
              "      <td>False</td>\n",
              "      <td>False</td>\n",
              "      <td>3</td>\n",
              "      <td>1840035951</td>\n",
              "    </tr>\n",
              "    <tr>\n",
              "      <th>29484</th>\n",
              "      <td>46123</td>\n",
              "      <td>43.5939</td>\n",
              "      <td>-99.6907</td>\n",
              "      <td>0.0</td>\n",
              "      <td>0.0</td>\n",
              "      <td>False</td>\n",
              "      <td>False</td>\n",
              "      <td>3</td>\n",
              "      <td>1840004186</td>\n",
              "    </tr>\n",
              "    <tr>\n",
              "      <th>29485</th>\n",
              "      <td>46035</td>\n",
              "      <td>43.7931</td>\n",
              "      <td>-98.1036</td>\n",
              "      <td>0.0</td>\n",
              "      <td>0.0</td>\n",
              "      <td>False</td>\n",
              "      <td>False</td>\n",
              "      <td>3</td>\n",
              "      <td>1840004170</td>\n",
              "    </tr>\n",
              "    <tr>\n",
              "      <th>29486</th>\n",
              "      <td>46015</td>\n",
              "      <td>43.5285</td>\n",
              "      <td>-99.1439</td>\n",
              "      <td>0.0</td>\n",
              "      <td>0.0</td>\n",
              "      <td>False</td>\n",
              "      <td>False</td>\n",
              "      <td>3</td>\n",
              "      <td>1840024011</td>\n",
              "    </tr>\n",
              "    <tr>\n",
              "      <th>29487</th>\n",
              "      <td>46015</td>\n",
              "      <td>43.6005</td>\n",
              "      <td>-99.2114</td>\n",
              "      <td>0.0</td>\n",
              "      <td>0.0</td>\n",
              "      <td>False</td>\n",
              "      <td>False</td>\n",
              "      <td>3</td>\n",
              "      <td>1840024012</td>\n",
              "    </tr>\n",
              "  </tbody>\n",
              "</table>\n",
              "<p>29488 rows × 9 columns</p>\n",
              "</div>"
            ],
            "text/plain": [
              "       county_fips      lat       lng  population  density  military  \\\n",
              "0            36061  40.6943  -73.9249  18713220.0  10715.0     False   \n",
              "1             6037  34.1139 -118.4068  12750807.0   3276.0     False   \n",
              "2            17031  41.8373  -87.6862   8604203.0   4574.0     False   \n",
              "3            12086  25.7839  -80.2102   6445545.0   5019.0     False   \n",
              "4            48113  32.7936  -96.7662   5743938.0   1526.0     False   \n",
              "...            ...      ...       ...         ...      ...       ...   \n",
              "29483        46103  43.9960 -102.9847         0.0      0.0     False   \n",
              "29484        46123  43.5939  -99.6907         0.0      0.0     False   \n",
              "29485        46035  43.7931  -98.1036         0.0      0.0     False   \n",
              "29486        46015  43.5285  -99.1439         0.0      0.0     False   \n",
              "29487        46015  43.6005  -99.2114         0.0      0.0     False   \n",
              "\n",
              "       incorporated  ranking          id  \n",
              "0              True        1  1840034016  \n",
              "1              True        1  1840020491  \n",
              "2              True        1  1840000494  \n",
              "3              True        1  1840015149  \n",
              "4              True        1  1840019440  \n",
              "...             ...      ...         ...  \n",
              "29483         False        3  1840035951  \n",
              "29484         False        3  1840004186  \n",
              "29485         False        3  1840004170  \n",
              "29486         False        3  1840024011  \n",
              "29487         False        3  1840024012  \n",
              "\n",
              "[29488 rows x 9 columns]"
            ]
          },
          "execution_count": 234,
          "metadata": {},
          "output_type": "execute_result"
        }
      ],
      "source": [
        "dataset2.drop(['city', 'city_ascii', 'state_id', 'state_name', 'county_name', 'source', 'timezone', 'zips'], axis=1, inplace=True)\n",
        "dataset2"
      ]
    },
    {
      "cell_type": "markdown",
      "metadata": {},
      "source": [
        "# strat preprocessing whit LabelEncoder methot 'military' $ 'incorporated'"
      ]
    },
    {
      "cell_type": "code",
      "execution_count": 235,
      "metadata": {
        "colab": {
          "base_uri": "https://localhost:8080/"
        },
        "id": "TCyrO9LTsc1F",
        "outputId": "ff91d869-0802-4cd6-b15e-e9a622394768"
      },
      "outputs": [
        {
          "data": {
            "text/plain": [
              "array([0, 1], dtype=int64)"
            ]
          },
          "execution_count": 235,
          "metadata": {},
          "output_type": "execute_result"
        }
      ],
      "source": [
        "from sklearn import preprocessing\n",
        "\n",
        "\n",
        "label_encoder = preprocessing.LabelEncoder()\n",
        "\n",
        "# Encode labels in column 'species'.\n",
        "dataset2['military'] = label_encoder.fit_transform(dataset2['military'])\n",
        "\n",
        "dataset2['military'].unique()"
      ]
    },
    {
      "cell_type": "code",
      "execution_count": 236,
      "metadata": {
        "colab": {
          "base_uri": "https://localhost:8080/"
        },
        "id": "k4qTNN29tkcU",
        "outputId": "269fd4c1-f56a-4648-dfc9-eb326c4fbe96"
      },
      "outputs": [
        {
          "data": {
            "text/plain": [
              "array([1, 0], dtype=int64)"
            ]
          },
          "execution_count": 236,
          "metadata": {},
          "output_type": "execute_result"
        }
      ],
      "source": [
        "dataset2['incorporated'] = label_encoder.fit_transform(dataset2['incorporated'])\n",
        "\n",
        "dataset2['incorporated'].unique()"
      ]
    },
    {
      "cell_type": "code",
      "execution_count": 237,
      "metadata": {
        "colab": {
          "base_uri": "https://localhost:8080/",
          "height": 423
        },
        "id": "1XDgIeQ9tsIo",
        "outputId": "336f4a9d-9e08-49ed-f122-9bd4b360c738"
      },
      "outputs": [
        {
          "data": {
            "text/html": [
              "<div>\n",
              "<style scoped>\n",
              "    .dataframe tbody tr th:only-of-type {\n",
              "        vertical-align: middle;\n",
              "    }\n",
              "\n",
              "    .dataframe tbody tr th {\n",
              "        vertical-align: top;\n",
              "    }\n",
              "\n",
              "    .dataframe thead th {\n",
              "        text-align: right;\n",
              "    }\n",
              "</style>\n",
              "<table border=\"1\" class=\"dataframe\">\n",
              "  <thead>\n",
              "    <tr style=\"text-align: right;\">\n",
              "      <th></th>\n",
              "      <th>county_fips</th>\n",
              "      <th>lat</th>\n",
              "      <th>lng</th>\n",
              "      <th>population</th>\n",
              "      <th>density</th>\n",
              "      <th>military</th>\n",
              "      <th>incorporated</th>\n",
              "      <th>ranking</th>\n",
              "      <th>id</th>\n",
              "    </tr>\n",
              "  </thead>\n",
              "  <tbody>\n",
              "    <tr>\n",
              "      <th>0</th>\n",
              "      <td>36061</td>\n",
              "      <td>40.6943</td>\n",
              "      <td>-73.9249</td>\n",
              "      <td>18713220.0</td>\n",
              "      <td>10715.0</td>\n",
              "      <td>0</td>\n",
              "      <td>1</td>\n",
              "      <td>1</td>\n",
              "      <td>1840034016</td>\n",
              "    </tr>\n",
              "    <tr>\n",
              "      <th>1</th>\n",
              "      <td>6037</td>\n",
              "      <td>34.1139</td>\n",
              "      <td>-118.4068</td>\n",
              "      <td>12750807.0</td>\n",
              "      <td>3276.0</td>\n",
              "      <td>0</td>\n",
              "      <td>1</td>\n",
              "      <td>1</td>\n",
              "      <td>1840020491</td>\n",
              "    </tr>\n",
              "    <tr>\n",
              "      <th>2</th>\n",
              "      <td>17031</td>\n",
              "      <td>41.8373</td>\n",
              "      <td>-87.6862</td>\n",
              "      <td>8604203.0</td>\n",
              "      <td>4574.0</td>\n",
              "      <td>0</td>\n",
              "      <td>1</td>\n",
              "      <td>1</td>\n",
              "      <td>1840000494</td>\n",
              "    </tr>\n",
              "    <tr>\n",
              "      <th>3</th>\n",
              "      <td>12086</td>\n",
              "      <td>25.7839</td>\n",
              "      <td>-80.2102</td>\n",
              "      <td>6445545.0</td>\n",
              "      <td>5019.0</td>\n",
              "      <td>0</td>\n",
              "      <td>1</td>\n",
              "      <td>1</td>\n",
              "      <td>1840015149</td>\n",
              "    </tr>\n",
              "    <tr>\n",
              "      <th>4</th>\n",
              "      <td>48113</td>\n",
              "      <td>32.7936</td>\n",
              "      <td>-96.7662</td>\n",
              "      <td>5743938.0</td>\n",
              "      <td>1526.0</td>\n",
              "      <td>0</td>\n",
              "      <td>1</td>\n",
              "      <td>1</td>\n",
              "      <td>1840019440</td>\n",
              "    </tr>\n",
              "    <tr>\n",
              "      <th>...</th>\n",
              "      <td>...</td>\n",
              "      <td>...</td>\n",
              "      <td>...</td>\n",
              "      <td>...</td>\n",
              "      <td>...</td>\n",
              "      <td>...</td>\n",
              "      <td>...</td>\n",
              "      <td>...</td>\n",
              "      <td>...</td>\n",
              "    </tr>\n",
              "    <tr>\n",
              "      <th>29483</th>\n",
              "      <td>46103</td>\n",
              "      <td>43.9960</td>\n",
              "      <td>-102.9847</td>\n",
              "      <td>0.0</td>\n",
              "      <td>0.0</td>\n",
              "      <td>0</td>\n",
              "      <td>0</td>\n",
              "      <td>3</td>\n",
              "      <td>1840035951</td>\n",
              "    </tr>\n",
              "    <tr>\n",
              "      <th>29484</th>\n",
              "      <td>46123</td>\n",
              "      <td>43.5939</td>\n",
              "      <td>-99.6907</td>\n",
              "      <td>0.0</td>\n",
              "      <td>0.0</td>\n",
              "      <td>0</td>\n",
              "      <td>0</td>\n",
              "      <td>3</td>\n",
              "      <td>1840004186</td>\n",
              "    </tr>\n",
              "    <tr>\n",
              "      <th>29485</th>\n",
              "      <td>46035</td>\n",
              "      <td>43.7931</td>\n",
              "      <td>-98.1036</td>\n",
              "      <td>0.0</td>\n",
              "      <td>0.0</td>\n",
              "      <td>0</td>\n",
              "      <td>0</td>\n",
              "      <td>3</td>\n",
              "      <td>1840004170</td>\n",
              "    </tr>\n",
              "    <tr>\n",
              "      <th>29486</th>\n",
              "      <td>46015</td>\n",
              "      <td>43.5285</td>\n",
              "      <td>-99.1439</td>\n",
              "      <td>0.0</td>\n",
              "      <td>0.0</td>\n",
              "      <td>0</td>\n",
              "      <td>0</td>\n",
              "      <td>3</td>\n",
              "      <td>1840024011</td>\n",
              "    </tr>\n",
              "    <tr>\n",
              "      <th>29487</th>\n",
              "      <td>46015</td>\n",
              "      <td>43.6005</td>\n",
              "      <td>-99.2114</td>\n",
              "      <td>0.0</td>\n",
              "      <td>0.0</td>\n",
              "      <td>0</td>\n",
              "      <td>0</td>\n",
              "      <td>3</td>\n",
              "      <td>1840024012</td>\n",
              "    </tr>\n",
              "  </tbody>\n",
              "</table>\n",
              "<p>29488 rows × 9 columns</p>\n",
              "</div>"
            ],
            "text/plain": [
              "       county_fips      lat       lng  population  density  military  \\\n",
              "0            36061  40.6943  -73.9249  18713220.0  10715.0         0   \n",
              "1             6037  34.1139 -118.4068  12750807.0   3276.0         0   \n",
              "2            17031  41.8373  -87.6862   8604203.0   4574.0         0   \n",
              "3            12086  25.7839  -80.2102   6445545.0   5019.0         0   \n",
              "4            48113  32.7936  -96.7662   5743938.0   1526.0         0   \n",
              "...            ...      ...       ...         ...      ...       ...   \n",
              "29483        46103  43.9960 -102.9847         0.0      0.0         0   \n",
              "29484        46123  43.5939  -99.6907         0.0      0.0         0   \n",
              "29485        46035  43.7931  -98.1036         0.0      0.0         0   \n",
              "29486        46015  43.5285  -99.1439         0.0      0.0         0   \n",
              "29487        46015  43.6005  -99.2114         0.0      0.0         0   \n",
              "\n",
              "       incorporated  ranking          id  \n",
              "0                 1        1  1840034016  \n",
              "1                 1        1  1840020491  \n",
              "2                 1        1  1840000494  \n",
              "3                 1        1  1840015149  \n",
              "4                 1        1  1840019440  \n",
              "...             ...      ...         ...  \n",
              "29483             0        3  1840035951  \n",
              "29484             0        3  1840004186  \n",
              "29485             0        3  1840004170  \n",
              "29486             0        3  1840024011  \n",
              "29487             0        3  1840024012  \n",
              "\n",
              "[29488 rows x 9 columns]"
            ]
          },
          "execution_count": 237,
          "metadata": {},
          "output_type": "execute_result"
        }
      ],
      "source": [
        "dataset2"
      ]
    },
    {
      "cell_type": "markdown",
      "metadata": {},
      "source": [
        "# concat dataset 1 and dataset 2"
      ]
    },
    {
      "cell_type": "code",
      "execution_count": 238,
      "metadata": {
        "colab": {
          "base_uri": "https://localhost:8080/",
          "height": 423
        },
        "id": "fXRpSXfAtxvW",
        "outputId": "4ab6130e-5858-4831-fc02-4f73742d69c2"
      },
      "outputs": [
        {
          "data": {
            "text/html": [
              "<div>\n",
              "<style scoped>\n",
              "    .dataframe tbody tr th:only-of-type {\n",
              "        vertical-align: middle;\n",
              "    }\n",
              "\n",
              "    .dataframe tbody tr th {\n",
              "        vertical-align: top;\n",
              "    }\n",
              "\n",
              "    .dataframe thead th {\n",
              "        text-align: right;\n",
              "    }\n",
              "</style>\n",
              "<table border=\"1\" class=\"dataframe\">\n",
              "  <thead>\n",
              "    <tr style=\"text-align: right;\">\n",
              "      <th></th>\n",
              "      <th>ID</th>\n",
              "      <th>Lat</th>\n",
              "      <th>Long</th>\n",
              "      <th>Time</th>\n",
              "      <th>county_fips</th>\n",
              "      <th>lat</th>\n",
              "      <th>lng</th>\n",
              "      <th>population</th>\n",
              "      <th>density</th>\n",
              "      <th>military</th>\n",
              "      <th>incorporated</th>\n",
              "      <th>ranking</th>\n",
              "      <th>id</th>\n",
              "    </tr>\n",
              "  </thead>\n",
              "  <tbody>\n",
              "    <tr>\n",
              "      <th>0</th>\n",
              "      <td>2548.0</td>\n",
              "      <td>18.3643</td>\n",
              "      <td>66.5611</td>\n",
              "      <td>0.0</td>\n",
              "      <td>NaN</td>\n",
              "      <td>NaN</td>\n",
              "      <td>NaN</td>\n",
              "      <td>NaN</td>\n",
              "      <td>NaN</td>\n",
              "      <td>NaN</td>\n",
              "      <td>NaN</td>\n",
              "      <td>NaN</td>\n",
              "      <td>NaN</td>\n",
              "    </tr>\n",
              "    <tr>\n",
              "      <th>1</th>\n",
              "      <td>724.0</td>\n",
              "      <td>42.1124</td>\n",
              "      <td>88.5122</td>\n",
              "      <td>1.0</td>\n",
              "      <td>NaN</td>\n",
              "      <td>NaN</td>\n",
              "      <td>NaN</td>\n",
              "      <td>NaN</td>\n",
              "      <td>NaN</td>\n",
              "      <td>NaN</td>\n",
              "      <td>NaN</td>\n",
              "      <td>NaN</td>\n",
              "      <td>NaN</td>\n",
              "    </tr>\n",
              "    <tr>\n",
              "      <th>2</th>\n",
              "      <td>1943.0</td>\n",
              "      <td>29.4658</td>\n",
              "      <td>98.5253</td>\n",
              "      <td>2.0</td>\n",
              "      <td>NaN</td>\n",
              "      <td>NaN</td>\n",
              "      <td>NaN</td>\n",
              "      <td>NaN</td>\n",
              "      <td>NaN</td>\n",
              "      <td>NaN</td>\n",
              "      <td>NaN</td>\n",
              "      <td>NaN</td>\n",
              "      <td>NaN</td>\n",
              "    </tr>\n",
              "    <tr>\n",
              "      <th>3</th>\n",
              "      <td>2595.0</td>\n",
              "      <td>18.3643</td>\n",
              "      <td>66.5611</td>\n",
              "      <td>3.0</td>\n",
              "      <td>NaN</td>\n",
              "      <td>NaN</td>\n",
              "      <td>NaN</td>\n",
              "      <td>NaN</td>\n",
              "      <td>NaN</td>\n",
              "      <td>NaN</td>\n",
              "      <td>NaN</td>\n",
              "      <td>NaN</td>\n",
              "      <td>NaN</td>\n",
              "    </tr>\n",
              "    <tr>\n",
              "      <th>4</th>\n",
              "      <td>2494.0</td>\n",
              "      <td>34.0393</td>\n",
              "      <td>117.6064</td>\n",
              "      <td>3.0</td>\n",
              "      <td>NaN</td>\n",
              "      <td>NaN</td>\n",
              "      <td>NaN</td>\n",
              "      <td>NaN</td>\n",
              "      <td>NaN</td>\n",
              "      <td>NaN</td>\n",
              "      <td>NaN</td>\n",
              "      <td>NaN</td>\n",
              "      <td>NaN</td>\n",
              "    </tr>\n",
              "    <tr>\n",
              "      <th>...</th>\n",
              "      <td>...</td>\n",
              "      <td>...</td>\n",
              "      <td>...</td>\n",
              "      <td>...</td>\n",
              "      <td>...</td>\n",
              "      <td>...</td>\n",
              "      <td>...</td>\n",
              "      <td>...</td>\n",
              "      <td>...</td>\n",
              "      <td>...</td>\n",
              "      <td>...</td>\n",
              "      <td>...</td>\n",
              "      <td>...</td>\n",
              "    </tr>\n",
              "    <tr>\n",
              "      <th>32486</th>\n",
              "      <td>NaN</td>\n",
              "      <td>NaN</td>\n",
              "      <td>NaN</td>\n",
              "      <td>NaN</td>\n",
              "      <td>46103.0</td>\n",
              "      <td>43.9960</td>\n",
              "      <td>-102.9847</td>\n",
              "      <td>0.0</td>\n",
              "      <td>0.0</td>\n",
              "      <td>0.0</td>\n",
              "      <td>0.0</td>\n",
              "      <td>3.0</td>\n",
              "      <td>1.840036e+09</td>\n",
              "    </tr>\n",
              "    <tr>\n",
              "      <th>32487</th>\n",
              "      <td>NaN</td>\n",
              "      <td>NaN</td>\n",
              "      <td>NaN</td>\n",
              "      <td>NaN</td>\n",
              "      <td>46123.0</td>\n",
              "      <td>43.5939</td>\n",
              "      <td>-99.6907</td>\n",
              "      <td>0.0</td>\n",
              "      <td>0.0</td>\n",
              "      <td>0.0</td>\n",
              "      <td>0.0</td>\n",
              "      <td>3.0</td>\n",
              "      <td>1.840004e+09</td>\n",
              "    </tr>\n",
              "    <tr>\n",
              "      <th>32488</th>\n",
              "      <td>NaN</td>\n",
              "      <td>NaN</td>\n",
              "      <td>NaN</td>\n",
              "      <td>NaN</td>\n",
              "      <td>46035.0</td>\n",
              "      <td>43.7931</td>\n",
              "      <td>-98.1036</td>\n",
              "      <td>0.0</td>\n",
              "      <td>0.0</td>\n",
              "      <td>0.0</td>\n",
              "      <td>0.0</td>\n",
              "      <td>3.0</td>\n",
              "      <td>1.840004e+09</td>\n",
              "    </tr>\n",
              "    <tr>\n",
              "      <th>32489</th>\n",
              "      <td>NaN</td>\n",
              "      <td>NaN</td>\n",
              "      <td>NaN</td>\n",
              "      <td>NaN</td>\n",
              "      <td>46015.0</td>\n",
              "      <td>43.5285</td>\n",
              "      <td>-99.1439</td>\n",
              "      <td>0.0</td>\n",
              "      <td>0.0</td>\n",
              "      <td>0.0</td>\n",
              "      <td>0.0</td>\n",
              "      <td>3.0</td>\n",
              "      <td>1.840024e+09</td>\n",
              "    </tr>\n",
              "    <tr>\n",
              "      <th>32490</th>\n",
              "      <td>NaN</td>\n",
              "      <td>NaN</td>\n",
              "      <td>NaN</td>\n",
              "      <td>NaN</td>\n",
              "      <td>46015.0</td>\n",
              "      <td>43.6005</td>\n",
              "      <td>-99.2114</td>\n",
              "      <td>0.0</td>\n",
              "      <td>0.0</td>\n",
              "      <td>0.0</td>\n",
              "      <td>0.0</td>\n",
              "      <td>3.0</td>\n",
              "      <td>1.840024e+09</td>\n",
              "    </tr>\n",
              "  </tbody>\n",
              "</table>\n",
              "<p>32491 rows × 13 columns</p>\n",
              "</div>"
            ],
            "text/plain": [
              "           ID      Lat      Long  Time  county_fips      lat       lng  \\\n",
              "0      2548.0  18.3643   66.5611   0.0          NaN      NaN       NaN   \n",
              "1       724.0  42.1124   88.5122   1.0          NaN      NaN       NaN   \n",
              "2      1943.0  29.4658   98.5253   2.0          NaN      NaN       NaN   \n",
              "3      2595.0  18.3643   66.5611   3.0          NaN      NaN       NaN   \n",
              "4      2494.0  34.0393  117.6064   3.0          NaN      NaN       NaN   \n",
              "...       ...      ...       ...   ...          ...      ...       ...   \n",
              "32486     NaN      NaN       NaN   NaN      46103.0  43.9960 -102.9847   \n",
              "32487     NaN      NaN       NaN   NaN      46123.0  43.5939  -99.6907   \n",
              "32488     NaN      NaN       NaN   NaN      46035.0  43.7931  -98.1036   \n",
              "32489     NaN      NaN       NaN   NaN      46015.0  43.5285  -99.1439   \n",
              "32490     NaN      NaN       NaN   NaN      46015.0  43.6005  -99.2114   \n",
              "\n",
              "       population  density  military  incorporated  ranking            id  \n",
              "0             NaN      NaN       NaN           NaN      NaN           NaN  \n",
              "1             NaN      NaN       NaN           NaN      NaN           NaN  \n",
              "2             NaN      NaN       NaN           NaN      NaN           NaN  \n",
              "3             NaN      NaN       NaN           NaN      NaN           NaN  \n",
              "4             NaN      NaN       NaN           NaN      NaN           NaN  \n",
              "...           ...      ...       ...           ...      ...           ...  \n",
              "32486         0.0      0.0       0.0           0.0      3.0  1.840036e+09  \n",
              "32487         0.0      0.0       0.0           0.0      3.0  1.840004e+09  \n",
              "32488         0.0      0.0       0.0           0.0      3.0  1.840004e+09  \n",
              "32489         0.0      0.0       0.0           0.0      3.0  1.840024e+09  \n",
              "32490         0.0      0.0       0.0           0.0      3.0  1.840024e+09  \n",
              "\n",
              "[32491 rows x 13 columns]"
            ]
          },
          "execution_count": 238,
          "metadata": {},
          "output_type": "execute_result"
        }
      ],
      "source": [
        "dataset = pd.concat([dataset1, dataset2], axis=0, ignore_index=True)\n",
        "dataset"
      ]
    },
    {
      "cell_type": "markdown",
      "metadata": {},
      "source": [
        "# drop 'population', 'density', 'military', 'incorporated' nan data and missing "
      ]
    },
    {
      "cell_type": "code",
      "execution_count": 239,
      "metadata": {
        "colab": {
          "base_uri": "https://localhost:8080/",
          "height": 423
        },
        "id": "IuIycBi4y5aO",
        "outputId": "8b61bb3b-beeb-4848-90aa-5c7d6f1790f0"
      },
      "outputs": [
        {
          "data": {
            "text/html": [
              "<div>\n",
              "<style scoped>\n",
              "    .dataframe tbody tr th:only-of-type {\n",
              "        vertical-align: middle;\n",
              "    }\n",
              "\n",
              "    .dataframe tbody tr th {\n",
              "        vertical-align: top;\n",
              "    }\n",
              "\n",
              "    .dataframe thead th {\n",
              "        text-align: right;\n",
              "    }\n",
              "</style>\n",
              "<table border=\"1\" class=\"dataframe\">\n",
              "  <thead>\n",
              "    <tr style=\"text-align: right;\">\n",
              "      <th></th>\n",
              "      <th>ID</th>\n",
              "      <th>Lat</th>\n",
              "      <th>Long</th>\n",
              "      <th>Time</th>\n",
              "      <th>county_fips</th>\n",
              "      <th>lat</th>\n",
              "      <th>lng</th>\n",
              "      <th>ranking</th>\n",
              "      <th>id</th>\n",
              "    </tr>\n",
              "  </thead>\n",
              "  <tbody>\n",
              "    <tr>\n",
              "      <th>0</th>\n",
              "      <td>2548.0</td>\n",
              "      <td>18.3643</td>\n",
              "      <td>66.5611</td>\n",
              "      <td>0.0</td>\n",
              "      <td>NaN</td>\n",
              "      <td>NaN</td>\n",
              "      <td>NaN</td>\n",
              "      <td>NaN</td>\n",
              "      <td>NaN</td>\n",
              "    </tr>\n",
              "    <tr>\n",
              "      <th>1</th>\n",
              "      <td>724.0</td>\n",
              "      <td>42.1124</td>\n",
              "      <td>88.5122</td>\n",
              "      <td>1.0</td>\n",
              "      <td>NaN</td>\n",
              "      <td>NaN</td>\n",
              "      <td>NaN</td>\n",
              "      <td>NaN</td>\n",
              "      <td>NaN</td>\n",
              "    </tr>\n",
              "    <tr>\n",
              "      <th>2</th>\n",
              "      <td>1943.0</td>\n",
              "      <td>29.4658</td>\n",
              "      <td>98.5253</td>\n",
              "      <td>2.0</td>\n",
              "      <td>NaN</td>\n",
              "      <td>NaN</td>\n",
              "      <td>NaN</td>\n",
              "      <td>NaN</td>\n",
              "      <td>NaN</td>\n",
              "    </tr>\n",
              "    <tr>\n",
              "      <th>3</th>\n",
              "      <td>2595.0</td>\n",
              "      <td>18.3643</td>\n",
              "      <td>66.5611</td>\n",
              "      <td>3.0</td>\n",
              "      <td>NaN</td>\n",
              "      <td>NaN</td>\n",
              "      <td>NaN</td>\n",
              "      <td>NaN</td>\n",
              "      <td>NaN</td>\n",
              "    </tr>\n",
              "    <tr>\n",
              "      <th>4</th>\n",
              "      <td>2494.0</td>\n",
              "      <td>34.0393</td>\n",
              "      <td>117.6064</td>\n",
              "      <td>3.0</td>\n",
              "      <td>NaN</td>\n",
              "      <td>NaN</td>\n",
              "      <td>NaN</td>\n",
              "      <td>NaN</td>\n",
              "      <td>NaN</td>\n",
              "    </tr>\n",
              "    <tr>\n",
              "      <th>...</th>\n",
              "      <td>...</td>\n",
              "      <td>...</td>\n",
              "      <td>...</td>\n",
              "      <td>...</td>\n",
              "      <td>...</td>\n",
              "      <td>...</td>\n",
              "      <td>...</td>\n",
              "      <td>...</td>\n",
              "      <td>...</td>\n",
              "    </tr>\n",
              "    <tr>\n",
              "      <th>32486</th>\n",
              "      <td>NaN</td>\n",
              "      <td>NaN</td>\n",
              "      <td>NaN</td>\n",
              "      <td>NaN</td>\n",
              "      <td>46103.0</td>\n",
              "      <td>43.9960</td>\n",
              "      <td>-102.9847</td>\n",
              "      <td>3.0</td>\n",
              "      <td>1.840036e+09</td>\n",
              "    </tr>\n",
              "    <tr>\n",
              "      <th>32487</th>\n",
              "      <td>NaN</td>\n",
              "      <td>NaN</td>\n",
              "      <td>NaN</td>\n",
              "      <td>NaN</td>\n",
              "      <td>46123.0</td>\n",
              "      <td>43.5939</td>\n",
              "      <td>-99.6907</td>\n",
              "      <td>3.0</td>\n",
              "      <td>1.840004e+09</td>\n",
              "    </tr>\n",
              "    <tr>\n",
              "      <th>32488</th>\n",
              "      <td>NaN</td>\n",
              "      <td>NaN</td>\n",
              "      <td>NaN</td>\n",
              "      <td>NaN</td>\n",
              "      <td>46035.0</td>\n",
              "      <td>43.7931</td>\n",
              "      <td>-98.1036</td>\n",
              "      <td>3.0</td>\n",
              "      <td>1.840004e+09</td>\n",
              "    </tr>\n",
              "    <tr>\n",
              "      <th>32489</th>\n",
              "      <td>NaN</td>\n",
              "      <td>NaN</td>\n",
              "      <td>NaN</td>\n",
              "      <td>NaN</td>\n",
              "      <td>46015.0</td>\n",
              "      <td>43.5285</td>\n",
              "      <td>-99.1439</td>\n",
              "      <td>3.0</td>\n",
              "      <td>1.840024e+09</td>\n",
              "    </tr>\n",
              "    <tr>\n",
              "      <th>32490</th>\n",
              "      <td>NaN</td>\n",
              "      <td>NaN</td>\n",
              "      <td>NaN</td>\n",
              "      <td>NaN</td>\n",
              "      <td>46015.0</td>\n",
              "      <td>43.6005</td>\n",
              "      <td>-99.2114</td>\n",
              "      <td>3.0</td>\n",
              "      <td>1.840024e+09</td>\n",
              "    </tr>\n",
              "  </tbody>\n",
              "</table>\n",
              "<p>32491 rows × 9 columns</p>\n",
              "</div>"
            ],
            "text/plain": [
              "           ID      Lat      Long  Time  county_fips      lat       lng  \\\n",
              "0      2548.0  18.3643   66.5611   0.0          NaN      NaN       NaN   \n",
              "1       724.0  42.1124   88.5122   1.0          NaN      NaN       NaN   \n",
              "2      1943.0  29.4658   98.5253   2.0          NaN      NaN       NaN   \n",
              "3      2595.0  18.3643   66.5611   3.0          NaN      NaN       NaN   \n",
              "4      2494.0  34.0393  117.6064   3.0          NaN      NaN       NaN   \n",
              "...       ...      ...       ...   ...          ...      ...       ...   \n",
              "32486     NaN      NaN       NaN   NaN      46103.0  43.9960 -102.9847   \n",
              "32487     NaN      NaN       NaN   NaN      46123.0  43.5939  -99.6907   \n",
              "32488     NaN      NaN       NaN   NaN      46035.0  43.7931  -98.1036   \n",
              "32489     NaN      NaN       NaN   NaN      46015.0  43.5285  -99.1439   \n",
              "32490     NaN      NaN       NaN   NaN      46015.0  43.6005  -99.2114   \n",
              "\n",
              "       ranking            id  \n",
              "0          NaN           NaN  \n",
              "1          NaN           NaN  \n",
              "2          NaN           NaN  \n",
              "3          NaN           NaN  \n",
              "4          NaN           NaN  \n",
              "...        ...           ...  \n",
              "32486      3.0  1.840036e+09  \n",
              "32487      3.0  1.840004e+09  \n",
              "32488      3.0  1.840004e+09  \n",
              "32489      3.0  1.840024e+09  \n",
              "32490      3.0  1.840024e+09  \n",
              "\n",
              "[32491 rows x 9 columns]"
            ]
          },
          "execution_count": 239,
          "metadata": {},
          "output_type": "execute_result"
        }
      ],
      "source": [
        "dataset.drop(['population', 'density', 'military', 'incorporated'], axis=1, inplace=True)\n",
        "dataset"
      ]
    },
    {
      "cell_type": "markdown",
      "metadata": {},
      "source": [
        "# transform data whit SimpleImputer method"
      ]
    },
    {
      "cell_type": "code",
      "execution_count": 240,
      "metadata": {
        "id": "8qarFlnlw4uA"
      },
      "outputs": [],
      "source": [
        "from sklearn.impute import SimpleImputer"
      ]
    },
    {
      "cell_type": "code",
      "execution_count": 241,
      "metadata": {
        "colab": {
          "base_uri": "https://localhost:8080/"
        },
        "id": "CocKwJVYylPD",
        "outputId": "032758bf-82c3-42fc-d065-22cf821df384"
      },
      "outputs": [
        {
          "data": {
            "text/plain": [
              "array([[ 2.54800000e+03,  1.83643000e+01,  6.65611000e+01, ...,\n",
              "        -1.21749200e+02,  3.00000000e+00,  1.63002353e+09],\n",
              "       [ 7.24000000e+02,  4.21124000e+01,  8.85122000e+01, ...,\n",
              "        -1.21749200e+02,  3.00000000e+00,  1.63002353e+09],\n",
              "       [ 1.94300000e+03,  2.94658000e+01,  9.85253000e+01, ...,\n",
              "        -1.21749200e+02,  3.00000000e+00,  1.63002353e+09],\n",
              "       ...,\n",
              "       [ 0.00000000e+00,  3.41139000e+01,  7.64949000e+01, ...,\n",
              "        -9.81036000e+01,  3.00000000e+00,  1.84000417e+09],\n",
              "       [ 0.00000000e+00,  3.41139000e+01,  7.64949000e+01, ...,\n",
              "        -9.91439000e+01,  3.00000000e+00,  1.84002401e+09],\n",
              "       [ 0.00000000e+00,  3.41139000e+01,  7.64949000e+01, ...,\n",
              "        -9.92114000e+01,  3.00000000e+00,  1.84002401e+09]])"
            ]
          },
          "execution_count": 241,
          "metadata": {},
          "output_type": "execute_result"
        }
      ],
      "source": [
        "i = SimpleImputer(missing_values=np.nan, strategy='most_frequent')#5\n",
        "i.fit(dataset)\n",
        "new_df = i.transform(dataset)\n",
        "new_df"
      ]
    },
    {
      "cell_type": "markdown",
      "metadata": {},
      "source": [
        "## dataset to dataframe"
      ]
    },
    {
      "cell_type": "code",
      "execution_count": 242,
      "metadata": {
        "colab": {
          "base_uri": "https://localhost:8080/",
          "height": 3249
        },
        "id": "qhgQLGwYznUc",
        "outputId": "f18f5bd8-4809-4e7f-c1af-ed61c07ac025"
      },
      "outputs": [
        {
          "data": {
            "text/html": [
              "<div>\n",
              "<style scoped>\n",
              "    .dataframe tbody tr th:only-of-type {\n",
              "        vertical-align: middle;\n",
              "    }\n",
              "\n",
              "    .dataframe tbody tr th {\n",
              "        vertical-align: top;\n",
              "    }\n",
              "\n",
              "    .dataframe thead th {\n",
              "        text-align: right;\n",
              "    }\n",
              "</style>\n",
              "<table border=\"1\" class=\"dataframe\">\n",
              "  <thead>\n",
              "    <tr style=\"text-align: right;\">\n",
              "      <th></th>\n",
              "      <th>ID</th>\n",
              "      <th>Lat</th>\n",
              "      <th>Long</th>\n",
              "      <th>Time</th>\n",
              "      <th>county_fips</th>\n",
              "      <th>lat</th>\n",
              "      <th>lng</th>\n",
              "      <th>ranking</th>\n",
              "      <th>id</th>\n",
              "    </tr>\n",
              "  </thead>\n",
              "  <tbody>\n",
              "    <tr>\n",
              "      <th>0</th>\n",
              "      <td>2548.0</td>\n",
              "      <td>18.3643</td>\n",
              "      <td>66.5611</td>\n",
              "      <td>0.0</td>\n",
              "      <td>36103.0</td>\n",
              "      <td>38.0368</td>\n",
              "      <td>-121.7492</td>\n",
              "      <td>3.0</td>\n",
              "      <td>1.630024e+09</td>\n",
              "    </tr>\n",
              "    <tr>\n",
              "      <th>1</th>\n",
              "      <td>724.0</td>\n",
              "      <td>42.1124</td>\n",
              "      <td>88.5122</td>\n",
              "      <td>1.0</td>\n",
              "      <td>36103.0</td>\n",
              "      <td>38.0368</td>\n",
              "      <td>-121.7492</td>\n",
              "      <td>3.0</td>\n",
              "      <td>1.630024e+09</td>\n",
              "    </tr>\n",
              "    <tr>\n",
              "      <th>2</th>\n",
              "      <td>1943.0</td>\n",
              "      <td>29.4658</td>\n",
              "      <td>98.5253</td>\n",
              "      <td>2.0</td>\n",
              "      <td>36103.0</td>\n",
              "      <td>38.0368</td>\n",
              "      <td>-121.7492</td>\n",
              "      <td>3.0</td>\n",
              "      <td>1.630024e+09</td>\n",
              "    </tr>\n",
              "    <tr>\n",
              "      <th>3</th>\n",
              "      <td>2595.0</td>\n",
              "      <td>18.3643</td>\n",
              "      <td>66.5611</td>\n",
              "      <td>3.0</td>\n",
              "      <td>36103.0</td>\n",
              "      <td>38.0368</td>\n",
              "      <td>-121.7492</td>\n",
              "      <td>3.0</td>\n",
              "      <td>1.630024e+09</td>\n",
              "    </tr>\n",
              "    <tr>\n",
              "      <th>4</th>\n",
              "      <td>2494.0</td>\n",
              "      <td>34.0393</td>\n",
              "      <td>117.6064</td>\n",
              "      <td>3.0</td>\n",
              "      <td>36103.0</td>\n",
              "      <td>38.0368</td>\n",
              "      <td>-121.7492</td>\n",
              "      <td>3.0</td>\n",
              "      <td>1.630024e+09</td>\n",
              "    </tr>\n",
              "    <tr>\n",
              "      <th>...</th>\n",
              "      <td>...</td>\n",
              "      <td>...</td>\n",
              "      <td>...</td>\n",
              "      <td>...</td>\n",
              "      <td>...</td>\n",
              "      <td>...</td>\n",
              "      <td>...</td>\n",
              "      <td>...</td>\n",
              "      <td>...</td>\n",
              "    </tr>\n",
              "    <tr>\n",
              "      <th>32486</th>\n",
              "      <td>0.0</td>\n",
              "      <td>34.1139</td>\n",
              "      <td>76.4949</td>\n",
              "      <td>288.0</td>\n",
              "      <td>46103.0</td>\n",
              "      <td>43.9960</td>\n",
              "      <td>-102.9847</td>\n",
              "      <td>3.0</td>\n",
              "      <td>1.840036e+09</td>\n",
              "    </tr>\n",
              "    <tr>\n",
              "      <th>32487</th>\n",
              "      <td>0.0</td>\n",
              "      <td>34.1139</td>\n",
              "      <td>76.4949</td>\n",
              "      <td>288.0</td>\n",
              "      <td>46123.0</td>\n",
              "      <td>43.5939</td>\n",
              "      <td>-99.6907</td>\n",
              "      <td>3.0</td>\n",
              "      <td>1.840004e+09</td>\n",
              "    </tr>\n",
              "    <tr>\n",
              "      <th>32488</th>\n",
              "      <td>0.0</td>\n",
              "      <td>34.1139</td>\n",
              "      <td>76.4949</td>\n",
              "      <td>288.0</td>\n",
              "      <td>46035.0</td>\n",
              "      <td>43.7931</td>\n",
              "      <td>-98.1036</td>\n",
              "      <td>3.0</td>\n",
              "      <td>1.840004e+09</td>\n",
              "    </tr>\n",
              "    <tr>\n",
              "      <th>32489</th>\n",
              "      <td>0.0</td>\n",
              "      <td>34.1139</td>\n",
              "      <td>76.4949</td>\n",
              "      <td>288.0</td>\n",
              "      <td>46015.0</td>\n",
              "      <td>43.5285</td>\n",
              "      <td>-99.1439</td>\n",
              "      <td>3.0</td>\n",
              "      <td>1.840024e+09</td>\n",
              "    </tr>\n",
              "    <tr>\n",
              "      <th>32490</th>\n",
              "      <td>0.0</td>\n",
              "      <td>34.1139</td>\n",
              "      <td>76.4949</td>\n",
              "      <td>288.0</td>\n",
              "      <td>46015.0</td>\n",
              "      <td>43.6005</td>\n",
              "      <td>-99.2114</td>\n",
              "      <td>3.0</td>\n",
              "      <td>1.840024e+09</td>\n",
              "    </tr>\n",
              "  </tbody>\n",
              "</table>\n",
              "<p>32491 rows × 9 columns</p>\n",
              "</div>"
            ],
            "text/plain": [
              "           ID      Lat      Long   Time  county_fips      lat       lng  \\\n",
              "0      2548.0  18.3643   66.5611    0.0      36103.0  38.0368 -121.7492   \n",
              "1       724.0  42.1124   88.5122    1.0      36103.0  38.0368 -121.7492   \n",
              "2      1943.0  29.4658   98.5253    2.0      36103.0  38.0368 -121.7492   \n",
              "3      2595.0  18.3643   66.5611    3.0      36103.0  38.0368 -121.7492   \n",
              "4      2494.0  34.0393  117.6064    3.0      36103.0  38.0368 -121.7492   \n",
              "...       ...      ...       ...    ...          ...      ...       ...   \n",
              "32486     0.0  34.1139   76.4949  288.0      46103.0  43.9960 -102.9847   \n",
              "32487     0.0  34.1139   76.4949  288.0      46123.0  43.5939  -99.6907   \n",
              "32488     0.0  34.1139   76.4949  288.0      46035.0  43.7931  -98.1036   \n",
              "32489     0.0  34.1139   76.4949  288.0      46015.0  43.5285  -99.1439   \n",
              "32490     0.0  34.1139   76.4949  288.0      46015.0  43.6005  -99.2114   \n",
              "\n",
              "       ranking            id  \n",
              "0          3.0  1.630024e+09  \n",
              "1          3.0  1.630024e+09  \n",
              "2          3.0  1.630024e+09  \n",
              "3          3.0  1.630024e+09  \n",
              "4          3.0  1.630024e+09  \n",
              "...        ...           ...  \n",
              "32486      3.0  1.840036e+09  \n",
              "32487      3.0  1.840004e+09  \n",
              "32488      3.0  1.840004e+09  \n",
              "32489      3.0  1.840024e+09  \n",
              "32490      3.0  1.840024e+09  \n",
              "\n",
              "[32491 rows x 9 columns]"
            ]
          },
          "execution_count": 242,
          "metadata": {},
          "output_type": "execute_result"
        }
      ],
      "source": [
        "df = pd.DataFrame(new_df, index=dataset.index, columns=dataset.columns)\n",
        "df"
      ]
    },
    {
      "cell_type": "code",
      "execution_count": 243,
      "metadata": {
        "colab": {
          "base_uri": "https://localhost:8080/",
          "height": 423
        },
        "id": "yS3bkmZ_uS0l",
        "outputId": "f479f479-b3d2-444c-8d76-13a00a131f15"
      },
      "outputs": [
        {
          "data": {
            "text/html": [
              "<div>\n",
              "<style scoped>\n",
              "    .dataframe tbody tr th:only-of-type {\n",
              "        vertical-align: middle;\n",
              "    }\n",
              "\n",
              "    .dataframe tbody tr th {\n",
              "        vertical-align: top;\n",
              "    }\n",
              "\n",
              "    .dataframe thead th {\n",
              "        text-align: right;\n",
              "    }\n",
              "</style>\n",
              "<table border=\"1\" class=\"dataframe\">\n",
              "  <thead>\n",
              "    <tr style=\"text-align: right;\">\n",
              "      <th></th>\n",
              "      <th>ID</th>\n",
              "      <th>Lat</th>\n",
              "      <th>Long</th>\n",
              "      <th>Time</th>\n",
              "      <th>county_fips</th>\n",
              "      <th>lat</th>\n",
              "      <th>lng</th>\n",
              "      <th>ranking</th>\n",
              "      <th>id</th>\n",
              "    </tr>\n",
              "  </thead>\n",
              "  <tbody>\n",
              "    <tr>\n",
              "      <th>0</th>\n",
              "      <td>2548.0</td>\n",
              "      <td>18.3643</td>\n",
              "      <td>66.5611</td>\n",
              "      <td>0.0</td>\n",
              "      <td>36103.0</td>\n",
              "      <td>38.0368</td>\n",
              "      <td>-121.7492</td>\n",
              "      <td>3.0</td>\n",
              "      <td>1.630024e+09</td>\n",
              "    </tr>\n",
              "    <tr>\n",
              "      <th>1</th>\n",
              "      <td>724.0</td>\n",
              "      <td>42.1124</td>\n",
              "      <td>88.5122</td>\n",
              "      <td>1.0</td>\n",
              "      <td>36103.0</td>\n",
              "      <td>38.0368</td>\n",
              "      <td>-121.7492</td>\n",
              "      <td>3.0</td>\n",
              "      <td>1.630024e+09</td>\n",
              "    </tr>\n",
              "    <tr>\n",
              "      <th>2</th>\n",
              "      <td>1943.0</td>\n",
              "      <td>29.4658</td>\n",
              "      <td>98.5253</td>\n",
              "      <td>2.0</td>\n",
              "      <td>36103.0</td>\n",
              "      <td>38.0368</td>\n",
              "      <td>-121.7492</td>\n",
              "      <td>3.0</td>\n",
              "      <td>1.630024e+09</td>\n",
              "    </tr>\n",
              "    <tr>\n",
              "      <th>3</th>\n",
              "      <td>2595.0</td>\n",
              "      <td>18.3643</td>\n",
              "      <td>66.5611</td>\n",
              "      <td>3.0</td>\n",
              "      <td>36103.0</td>\n",
              "      <td>38.0368</td>\n",
              "      <td>-121.7492</td>\n",
              "      <td>3.0</td>\n",
              "      <td>1.630024e+09</td>\n",
              "    </tr>\n",
              "    <tr>\n",
              "      <th>4</th>\n",
              "      <td>2494.0</td>\n",
              "      <td>34.0393</td>\n",
              "      <td>117.6064</td>\n",
              "      <td>3.0</td>\n",
              "      <td>36103.0</td>\n",
              "      <td>38.0368</td>\n",
              "      <td>-121.7492</td>\n",
              "      <td>3.0</td>\n",
              "      <td>1.630024e+09</td>\n",
              "    </tr>\n",
              "    <tr>\n",
              "      <th>...</th>\n",
              "      <td>...</td>\n",
              "      <td>...</td>\n",
              "      <td>...</td>\n",
              "      <td>...</td>\n",
              "      <td>...</td>\n",
              "      <td>...</td>\n",
              "      <td>...</td>\n",
              "      <td>...</td>\n",
              "      <td>...</td>\n",
              "    </tr>\n",
              "    <tr>\n",
              "      <th>32486</th>\n",
              "      <td>0.0</td>\n",
              "      <td>34.1139</td>\n",
              "      <td>76.4949</td>\n",
              "      <td>288.0</td>\n",
              "      <td>46103.0</td>\n",
              "      <td>43.9960</td>\n",
              "      <td>-102.9847</td>\n",
              "      <td>3.0</td>\n",
              "      <td>1.840036e+09</td>\n",
              "    </tr>\n",
              "    <tr>\n",
              "      <th>32487</th>\n",
              "      <td>0.0</td>\n",
              "      <td>34.1139</td>\n",
              "      <td>76.4949</td>\n",
              "      <td>288.0</td>\n",
              "      <td>46123.0</td>\n",
              "      <td>43.5939</td>\n",
              "      <td>-99.6907</td>\n",
              "      <td>3.0</td>\n",
              "      <td>1.840004e+09</td>\n",
              "    </tr>\n",
              "    <tr>\n",
              "      <th>32488</th>\n",
              "      <td>0.0</td>\n",
              "      <td>34.1139</td>\n",
              "      <td>76.4949</td>\n",
              "      <td>288.0</td>\n",
              "      <td>46035.0</td>\n",
              "      <td>43.7931</td>\n",
              "      <td>-98.1036</td>\n",
              "      <td>3.0</td>\n",
              "      <td>1.840004e+09</td>\n",
              "    </tr>\n",
              "    <tr>\n",
              "      <th>32489</th>\n",
              "      <td>0.0</td>\n",
              "      <td>34.1139</td>\n",
              "      <td>76.4949</td>\n",
              "      <td>288.0</td>\n",
              "      <td>46015.0</td>\n",
              "      <td>43.5285</td>\n",
              "      <td>-99.1439</td>\n",
              "      <td>3.0</td>\n",
              "      <td>1.840024e+09</td>\n",
              "    </tr>\n",
              "    <tr>\n",
              "      <th>32490</th>\n",
              "      <td>0.0</td>\n",
              "      <td>34.1139</td>\n",
              "      <td>76.4949</td>\n",
              "      <td>288.0</td>\n",
              "      <td>46015.0</td>\n",
              "      <td>43.6005</td>\n",
              "      <td>-99.2114</td>\n",
              "      <td>3.0</td>\n",
              "      <td>1.840024e+09</td>\n",
              "    </tr>\n",
              "  </tbody>\n",
              "</table>\n",
              "<p>32491 rows × 9 columns</p>\n",
              "</div>"
            ],
            "text/plain": [
              "           ID      Lat      Long   Time  county_fips      lat       lng  \\\n",
              "0      2548.0  18.3643   66.5611    0.0      36103.0  38.0368 -121.7492   \n",
              "1       724.0  42.1124   88.5122    1.0      36103.0  38.0368 -121.7492   \n",
              "2      1943.0  29.4658   98.5253    2.0      36103.0  38.0368 -121.7492   \n",
              "3      2595.0  18.3643   66.5611    3.0      36103.0  38.0368 -121.7492   \n",
              "4      2494.0  34.0393  117.6064    3.0      36103.0  38.0368 -121.7492   \n",
              "...       ...      ...       ...    ...          ...      ...       ...   \n",
              "32486     0.0  34.1139   76.4949  288.0      46103.0  43.9960 -102.9847   \n",
              "32487     0.0  34.1139   76.4949  288.0      46123.0  43.5939  -99.6907   \n",
              "32488     0.0  34.1139   76.4949  288.0      46035.0  43.7931  -98.1036   \n",
              "32489     0.0  34.1139   76.4949  288.0      46015.0  43.5285  -99.1439   \n",
              "32490     0.0  34.1139   76.4949  288.0      46015.0  43.6005  -99.2114   \n",
              "\n",
              "       ranking            id  \n",
              "0          3.0  1.630024e+09  \n",
              "1          3.0  1.630024e+09  \n",
              "2          3.0  1.630024e+09  \n",
              "3          3.0  1.630024e+09  \n",
              "4          3.0  1.630024e+09  \n",
              "...        ...           ...  \n",
              "32486      3.0  1.840036e+09  \n",
              "32487      3.0  1.840004e+09  \n",
              "32488      3.0  1.840004e+09  \n",
              "32489      3.0  1.840024e+09  \n",
              "32490      3.0  1.840024e+09  \n",
              "\n",
              "[32491 rows x 9 columns]"
            ]
          },
          "execution_count": 243,
          "metadata": {},
          "output_type": "execute_result"
        }
      ],
      "source": [
        "df.drop_duplicates()"
      ]
    },
    {
      "cell_type": "markdown",
      "metadata": {},
      "source": [
        "# show shape"
      ]
    },
    {
      "cell_type": "code",
      "execution_count": 244,
      "metadata": {
        "colab": {
          "base_uri": "https://localhost:8080/"
        },
        "id": "RQfL3w8H5XCa",
        "outputId": "031b0047-ac1b-4b35-b7bc-44f0cca0120d"
      },
      "outputs": [
        {
          "data": {
            "text/plain": [
              "(32491, 9)"
            ]
          },
          "execution_count": 244,
          "metadata": {},
          "output_type": "execute_result"
        }
      ],
      "source": [
        "df.shape"
      ]
    },
    {
      "cell_type": "markdown",
      "metadata": {},
      "source": [
        "# show info"
      ]
    },
    {
      "cell_type": "code",
      "execution_count": 245,
      "metadata": {
        "colab": {
          "base_uri": "https://localhost:8080/"
        },
        "id": "qAmxC5j46Q3q",
        "outputId": "db8720b9-9b8b-4caf-f878-03d3b5ac24f0"
      },
      "outputs": [
        {
          "name": "stdout",
          "output_type": "stream",
          "text": [
            "<class 'pandas.core.frame.DataFrame'>\n",
            "RangeIndex: 32491 entries, 0 to 32490\n",
            "Data columns (total 9 columns):\n",
            " #   Column       Non-Null Count  Dtype  \n",
            "---  ------       --------------  -----  \n",
            " 0   ID           32491 non-null  float64\n",
            " 1   Lat          32491 non-null  float64\n",
            " 2   Long         32491 non-null  float64\n",
            " 3   Time         32491 non-null  float64\n",
            " 4   county_fips  32491 non-null  float64\n",
            " 5   lat          32491 non-null  float64\n",
            " 6   lng          32491 non-null  float64\n",
            " 7   ranking      32491 non-null  float64\n",
            " 8   id           32491 non-null  float64\n",
            "dtypes: float64(9)\n",
            "memory usage: 2.2 MB\n"
          ]
        }
      ],
      "source": [
        "df.info()"
      ]
    },
    {
      "cell_type": "markdown",
      "metadata": {},
      "source": [
        "# show is null data "
      ]
    },
    {
      "cell_type": "code",
      "execution_count": 246,
      "metadata": {
        "colab": {
          "base_uri": "https://localhost:8080/",
          "height": 423
        },
        "id": "5Quiy_Ps6rpa",
        "outputId": "56555ba0-e084-4da8-9765-ac148b0e7511"
      },
      "outputs": [
        {
          "data": {
            "text/html": [
              "<div>\n",
              "<style scoped>\n",
              "    .dataframe tbody tr th:only-of-type {\n",
              "        vertical-align: middle;\n",
              "    }\n",
              "\n",
              "    .dataframe tbody tr th {\n",
              "        vertical-align: top;\n",
              "    }\n",
              "\n",
              "    .dataframe thead th {\n",
              "        text-align: right;\n",
              "    }\n",
              "</style>\n",
              "<table border=\"1\" class=\"dataframe\">\n",
              "  <thead>\n",
              "    <tr style=\"text-align: right;\">\n",
              "      <th></th>\n",
              "      <th>ID</th>\n",
              "      <th>Lat</th>\n",
              "      <th>Long</th>\n",
              "      <th>Time</th>\n",
              "      <th>county_fips</th>\n",
              "      <th>lat</th>\n",
              "      <th>lng</th>\n",
              "      <th>ranking</th>\n",
              "      <th>id</th>\n",
              "    </tr>\n",
              "  </thead>\n",
              "  <tbody>\n",
              "    <tr>\n",
              "      <th>0</th>\n",
              "      <td>False</td>\n",
              "      <td>False</td>\n",
              "      <td>False</td>\n",
              "      <td>False</td>\n",
              "      <td>False</td>\n",
              "      <td>False</td>\n",
              "      <td>False</td>\n",
              "      <td>False</td>\n",
              "      <td>False</td>\n",
              "    </tr>\n",
              "    <tr>\n",
              "      <th>1</th>\n",
              "      <td>False</td>\n",
              "      <td>False</td>\n",
              "      <td>False</td>\n",
              "      <td>False</td>\n",
              "      <td>False</td>\n",
              "      <td>False</td>\n",
              "      <td>False</td>\n",
              "      <td>False</td>\n",
              "      <td>False</td>\n",
              "    </tr>\n",
              "    <tr>\n",
              "      <th>2</th>\n",
              "      <td>False</td>\n",
              "      <td>False</td>\n",
              "      <td>False</td>\n",
              "      <td>False</td>\n",
              "      <td>False</td>\n",
              "      <td>False</td>\n",
              "      <td>False</td>\n",
              "      <td>False</td>\n",
              "      <td>False</td>\n",
              "    </tr>\n",
              "    <tr>\n",
              "      <th>3</th>\n",
              "      <td>False</td>\n",
              "      <td>False</td>\n",
              "      <td>False</td>\n",
              "      <td>False</td>\n",
              "      <td>False</td>\n",
              "      <td>False</td>\n",
              "      <td>False</td>\n",
              "      <td>False</td>\n",
              "      <td>False</td>\n",
              "    </tr>\n",
              "    <tr>\n",
              "      <th>4</th>\n",
              "      <td>False</td>\n",
              "      <td>False</td>\n",
              "      <td>False</td>\n",
              "      <td>False</td>\n",
              "      <td>False</td>\n",
              "      <td>False</td>\n",
              "      <td>False</td>\n",
              "      <td>False</td>\n",
              "      <td>False</td>\n",
              "    </tr>\n",
              "    <tr>\n",
              "      <th>...</th>\n",
              "      <td>...</td>\n",
              "      <td>...</td>\n",
              "      <td>...</td>\n",
              "      <td>...</td>\n",
              "      <td>...</td>\n",
              "      <td>...</td>\n",
              "      <td>...</td>\n",
              "      <td>...</td>\n",
              "      <td>...</td>\n",
              "    </tr>\n",
              "    <tr>\n",
              "      <th>32486</th>\n",
              "      <td>False</td>\n",
              "      <td>False</td>\n",
              "      <td>False</td>\n",
              "      <td>False</td>\n",
              "      <td>False</td>\n",
              "      <td>False</td>\n",
              "      <td>False</td>\n",
              "      <td>False</td>\n",
              "      <td>False</td>\n",
              "    </tr>\n",
              "    <tr>\n",
              "      <th>32487</th>\n",
              "      <td>False</td>\n",
              "      <td>False</td>\n",
              "      <td>False</td>\n",
              "      <td>False</td>\n",
              "      <td>False</td>\n",
              "      <td>False</td>\n",
              "      <td>False</td>\n",
              "      <td>False</td>\n",
              "      <td>False</td>\n",
              "    </tr>\n",
              "    <tr>\n",
              "      <th>32488</th>\n",
              "      <td>False</td>\n",
              "      <td>False</td>\n",
              "      <td>False</td>\n",
              "      <td>False</td>\n",
              "      <td>False</td>\n",
              "      <td>False</td>\n",
              "      <td>False</td>\n",
              "      <td>False</td>\n",
              "      <td>False</td>\n",
              "    </tr>\n",
              "    <tr>\n",
              "      <th>32489</th>\n",
              "      <td>False</td>\n",
              "      <td>False</td>\n",
              "      <td>False</td>\n",
              "      <td>False</td>\n",
              "      <td>False</td>\n",
              "      <td>False</td>\n",
              "      <td>False</td>\n",
              "      <td>False</td>\n",
              "      <td>False</td>\n",
              "    </tr>\n",
              "    <tr>\n",
              "      <th>32490</th>\n",
              "      <td>False</td>\n",
              "      <td>False</td>\n",
              "      <td>False</td>\n",
              "      <td>False</td>\n",
              "      <td>False</td>\n",
              "      <td>False</td>\n",
              "      <td>False</td>\n",
              "      <td>False</td>\n",
              "      <td>False</td>\n",
              "    </tr>\n",
              "  </tbody>\n",
              "</table>\n",
              "<p>32491 rows × 9 columns</p>\n",
              "</div>"
            ],
            "text/plain": [
              "          ID    Lat   Long   Time  county_fips    lat    lng  ranking     id\n",
              "0      False  False  False  False        False  False  False    False  False\n",
              "1      False  False  False  False        False  False  False    False  False\n",
              "2      False  False  False  False        False  False  False    False  False\n",
              "3      False  False  False  False        False  False  False    False  False\n",
              "4      False  False  False  False        False  False  False    False  False\n",
              "...      ...    ...    ...    ...          ...    ...    ...      ...    ...\n",
              "32486  False  False  False  False        False  False  False    False  False\n",
              "32487  False  False  False  False        False  False  False    False  False\n",
              "32488  False  False  False  False        False  False  False    False  False\n",
              "32489  False  False  False  False        False  False  False    False  False\n",
              "32490  False  False  False  False        False  False  False    False  False\n",
              "\n",
              "[32491 rows x 9 columns]"
            ]
          },
          "execution_count": 246,
          "metadata": {},
          "output_type": "execute_result"
        }
      ],
      "source": [
        "df.isnull()"
      ]
    },
    {
      "cell_type": "markdown",
      "metadata": {
        "id": "cGUXZCd39WvE"
      },
      "source": [
        "# Start normalize whit method scale and min_max_normallize"
      ]
    },
    {
      "cell_type": "code",
      "execution_count": 248,
      "metadata": {
        "id": "jtw7_SIx6x4V"
      },
      "outputs": [],
      "source": [
        "from sklearn.preprocessing import scale"
      ]
    },
    {
      "cell_type": "code",
      "execution_count": 249,
      "metadata": {
        "colab": {
          "base_uri": "https://localhost:8080/",
          "height": 460
        },
        "id": "QHpTRj9-7CxA",
        "outputId": "02feb5be-79bc-4cbc-bf7c-2c0ccec5d07c"
      },
      "outputs": [
        {
          "name": "stderr",
          "output_type": "stream",
          "text": [
            "C:\\Users\\Asus\\AppData\\Local\\Packages\\PythonSoftwareFoundation.Python.3.11_qbz5n2kfra8p0\\LocalCache\\local-packages\\Python311\\site-packages\\sklearn\\preprocessing\\_data.py:246: UserWarning: Numerical issues were encountered when centering the data and might not be solved. Dataset may contain too large values. You may need to prescale your features.\n",
            "  warnings.warn(\n"
          ]
        },
        {
          "data": {
            "text/html": [
              "<div>\n",
              "<style scoped>\n",
              "    .dataframe tbody tr th:only-of-type {\n",
              "        vertical-align: middle;\n",
              "    }\n",
              "\n",
              "    .dataframe tbody tr th {\n",
              "        vertical-align: top;\n",
              "    }\n",
              "\n",
              "    .dataframe thead th {\n",
              "        text-align: right;\n",
              "    }\n",
              "</style>\n",
              "<table border=\"1\" class=\"dataframe\">\n",
              "  <thead>\n",
              "    <tr style=\"text-align: right;\">\n",
              "      <th></th>\n",
              "      <th>ID</th>\n",
              "      <th>Lat</th>\n",
              "      <th>Long</th>\n",
              "      <th>Time</th>\n",
              "      <th>county_fips</th>\n",
              "      <th>lat</th>\n",
              "      <th>lng</th>\n",
              "      <th>ranking</th>\n",
              "      <th>id</th>\n",
              "    </tr>\n",
              "  </thead>\n",
              "  <tbody>\n",
              "    <tr>\n",
              "      <th>count</th>\n",
              "      <td>3.249100e+04</td>\n",
              "      <td>3.249100e+04</td>\n",
              "      <td>3.249100e+04</td>\n",
              "      <td>3.249100e+04</td>\n",
              "      <td>3.249100e+04</td>\n",
              "      <td>3.249100e+04</td>\n",
              "      <td>3.249100e+04</td>\n",
              "      <td>3.249100e+04</td>\n",
              "      <td>3.249100e+04</td>\n",
              "    </tr>\n",
              "    <tr>\n",
              "      <th>mean</th>\n",
              "      <td>-4.198831e-17</td>\n",
              "      <td>-3.499026e-17</td>\n",
              "      <td>2.099415e-17</td>\n",
              "      <td>1.819493e-16</td>\n",
              "      <td>-3.848928e-17</td>\n",
              "      <td>-2.099415e-17</td>\n",
              "      <td>1.924464e-17</td>\n",
              "      <td>-4.898636e-17</td>\n",
              "      <td>2.799220e-17</td>\n",
              "    </tr>\n",
              "    <tr>\n",
              "      <th>std</th>\n",
              "      <td>1.000015e+00</td>\n",
              "      <td>1.000015e+00</td>\n",
              "      <td>1.000015e+00</td>\n",
              "      <td>1.000015e+00</td>\n",
              "      <td>1.000015e+00</td>\n",
              "      <td>1.000015e+00</td>\n",
              "      <td>1.000015e+00</td>\n",
              "      <td>1.000015e+00</td>\n",
              "      <td>1.000015e+00</td>\n",
              "    </tr>\n",
              "    <tr>\n",
              "      <th>min</th>\n",
              "      <td>-2.728899e-01</td>\n",
              "      <td>-7.960773e+00</td>\n",
              "      <td>-1.751300e+00</td>\n",
              "      <td>-1.451332e+00</td>\n",
              "      <td>-1.950649e+00</td>\n",
              "      <td>-3.694125e+00</td>\n",
              "      <td>-4.720572e+00</td>\n",
              "      <td>-8.847659e+00</td>\n",
              "      <td>-2.997499e+00</td>\n",
              "    </tr>\n",
              "    <tr>\n",
              "      <th>25%</th>\n",
              "      <td>-2.728899e-01</td>\n",
              "      <td>-1.188765e-01</td>\n",
              "      <td>-2.130800e-01</td>\n",
              "      <td>-2.429106e-01</td>\n",
              "      <td>-7.599784e-01</td>\n",
              "      <td>-5.238988e-01</td>\n",
              "      <td>-6.060154e-01</td>\n",
              "      <td>2.164838e-01</td>\n",
              "      <td>3.333659e-01</td>\n",
              "    </tr>\n",
              "    <tr>\n",
              "      <th>50%</th>\n",
              "      <td>-2.728899e-01</td>\n",
              "      <td>-1.188765e-01</td>\n",
              "      <td>-2.130800e-01</td>\n",
              "      <td>-2.429106e-01</td>\n",
              "      <td>2.329080e-01</td>\n",
              "      <td>4.015984e-02</td>\n",
              "      <td>2.144008e-01</td>\n",
              "      <td>2.164838e-01</td>\n",
              "      <td>3.334982e-01</td>\n",
              "    </tr>\n",
              "    <tr>\n",
              "      <th>75%</th>\n",
              "      <td>-2.728899e-01</td>\n",
              "      <td>-1.188765e-01</td>\n",
              "      <td>-2.130800e-01</td>\n",
              "      <td>-2.429106e-01</td>\n",
              "      <td>6.972245e-01</td>\n",
              "      <td>5.273014e-01</td>\n",
              "      <td>7.609590e-01</td>\n",
              "      <td>2.164838e-01</td>\n",
              "      <td>3.336424e-01</td>\n",
              "    </tr>\n",
              "    <tr>\n",
              "      <th>max</th>\n",
              "      <td>5.632183e+00</td>\n",
              "      <td>1.513666e+01</td>\n",
              "      <td>1.279259e+01</td>\n",
              "      <td>6.399213e+00</td>\n",
              "      <td>2.752803e+00</td>\n",
              "      <td>5.822015e+00</td>\n",
              "      <td>1.557491e+01</td>\n",
              "      <td>4.748555e+00</td>\n",
              "      <td>3.355250e-01</td>\n",
              "    </tr>\n",
              "  </tbody>\n",
              "</table>\n",
              "</div>"
            ],
            "text/plain": [
              "                 ID           Lat          Long          Time   county_fips  \\\n",
              "count  3.249100e+04  3.249100e+04  3.249100e+04  3.249100e+04  3.249100e+04   \n",
              "mean  -4.198831e-17 -3.499026e-17  2.099415e-17  1.819493e-16 -3.848928e-17   \n",
              "std    1.000015e+00  1.000015e+00  1.000015e+00  1.000015e+00  1.000015e+00   \n",
              "min   -2.728899e-01 -7.960773e+00 -1.751300e+00 -1.451332e+00 -1.950649e+00   \n",
              "25%   -2.728899e-01 -1.188765e-01 -2.130800e-01 -2.429106e-01 -7.599784e-01   \n",
              "50%   -2.728899e-01 -1.188765e-01 -2.130800e-01 -2.429106e-01  2.329080e-01   \n",
              "75%   -2.728899e-01 -1.188765e-01 -2.130800e-01 -2.429106e-01  6.972245e-01   \n",
              "max    5.632183e+00  1.513666e+01  1.279259e+01  6.399213e+00  2.752803e+00   \n",
              "\n",
              "                lat           lng       ranking            id  \n",
              "count  3.249100e+04  3.249100e+04  3.249100e+04  3.249100e+04  \n",
              "mean  -2.099415e-17  1.924464e-17 -4.898636e-17  2.799220e-17  \n",
              "std    1.000015e+00  1.000015e+00  1.000015e+00  1.000015e+00  \n",
              "min   -3.694125e+00 -4.720572e+00 -8.847659e+00 -2.997499e+00  \n",
              "25%   -5.238988e-01 -6.060154e-01  2.164838e-01  3.333659e-01  \n",
              "50%    4.015984e-02  2.144008e-01  2.164838e-01  3.334982e-01  \n",
              "75%    5.273014e-01  7.609590e-01  2.164838e-01  3.336424e-01  \n",
              "max    5.822015e+00  1.557491e+01  4.748555e+00  3.355250e-01  "
            ]
          },
          "execution_count": 249,
          "metadata": {},
          "output_type": "execute_result"
        }
      ],
      "source": [
        "s_data = scale(df)\n",
        "s_data_df = pd.DataFrame(s_data, index=df.index, columns=df.columns)\n",
        "s_data_df.describe()"
      ]
    },
    {
      "cell_type": "code",
      "execution_count": 250,
      "metadata": {},
      "outputs": [],
      "source": [
        "def min_max_normallize(dataset):\n",
        "    min_val = np.min(dataset, axis=0)\n",
        "    max_val = np.max(dataset, axis=0)\n",
        "    normal = (dataset - min_val) / (max_val - min_val)\n",
        "    return normal"
      ]
    },
    {
      "cell_type": "code",
      "execution_count": 251,
      "metadata": {},
      "outputs": [
        {
          "data": {
            "text/html": [
              "<div>\n",
              "<style scoped>\n",
              "    .dataframe tbody tr th:only-of-type {\n",
              "        vertical-align: middle;\n",
              "    }\n",
              "\n",
              "    .dataframe tbody tr th {\n",
              "        vertical-align: top;\n",
              "    }\n",
              "\n",
              "    .dataframe thead th {\n",
              "        text-align: right;\n",
              "    }\n",
              "</style>\n",
              "<table border=\"1\" class=\"dataframe\">\n",
              "  <thead>\n",
              "    <tr style=\"text-align: right;\">\n",
              "      <th></th>\n",
              "      <th>ID</th>\n",
              "      <th>Lat</th>\n",
              "      <th>Long</th>\n",
              "      <th>Time</th>\n",
              "      <th>county_fips</th>\n",
              "      <th>lat</th>\n",
              "      <th>lng</th>\n",
              "      <th>ranking</th>\n",
              "      <th>id</th>\n",
              "    </tr>\n",
              "  </thead>\n",
              "  <tbody>\n",
              "    <tr>\n",
              "      <th>0</th>\n",
              "      <td>0.848767</td>\n",
              "      <td>0.000000</td>\n",
              "      <td>0.005853</td>\n",
              "      <td>0.000000</td>\n",
              "      <td>0.493338</td>\n",
              "      <td>0.376633</td>\n",
              "      <td>0.156912</td>\n",
              "      <td>0.666667</td>\n",
              "      <td>0.000000</td>\n",
              "    </tr>\n",
              "    <tr>\n",
              "      <th>1</th>\n",
              "      <td>0.241173</td>\n",
              "      <td>0.511937</td>\n",
              "      <td>0.226631</td>\n",
              "      <td>0.000534</td>\n",
              "      <td>0.493338</td>\n",
              "      <td>0.376633</td>\n",
              "      <td>0.156912</td>\n",
              "      <td>0.666667</td>\n",
              "      <td>0.000000</td>\n",
              "    </tr>\n",
              "    <tr>\n",
              "      <th>2</th>\n",
              "      <td>0.647235</td>\n",
              "      <td>0.239315</td>\n",
              "      <td>0.327340</td>\n",
              "      <td>0.001069</td>\n",
              "      <td>0.493338</td>\n",
              "      <td>0.376633</td>\n",
              "      <td>0.156912</td>\n",
              "      <td>0.666667</td>\n",
              "      <td>0.000000</td>\n",
              "    </tr>\n",
              "    <tr>\n",
              "      <th>3</th>\n",
              "      <td>0.864424</td>\n",
              "      <td>0.000000</td>\n",
              "      <td>0.005853</td>\n",
              "      <td>0.001603</td>\n",
              "      <td>0.493338</td>\n",
              "      <td>0.376633</td>\n",
              "      <td>0.156912</td>\n",
              "      <td>0.666667</td>\n",
              "      <td>0.000000</td>\n",
              "    </tr>\n",
              "    <tr>\n",
              "      <th>4</th>\n",
              "      <td>0.830779</td>\n",
              "      <td>0.337906</td>\n",
              "      <td>0.519252</td>\n",
              "      <td>0.001603</td>\n",
              "      <td>0.493338</td>\n",
              "      <td>0.376633</td>\n",
              "      <td>0.156912</td>\n",
              "      <td>0.666667</td>\n",
              "      <td>0.000000</td>\n",
              "    </tr>\n",
              "    <tr>\n",
              "      <th>...</th>\n",
              "      <td>...</td>\n",
              "      <td>...</td>\n",
              "      <td>...</td>\n",
              "      <td>...</td>\n",
              "      <td>...</td>\n",
              "      <td>...</td>\n",
              "      <td>...</td>\n",
              "      <td>...</td>\n",
              "      <td>...</td>\n",
              "    </tr>\n",
              "    <tr>\n",
              "      <th>32486</th>\n",
              "      <td>0.000000</td>\n",
              "      <td>0.339514</td>\n",
              "      <td>0.105764</td>\n",
              "      <td>0.153928</td>\n",
              "      <td>0.633882</td>\n",
              "      <td>0.488402</td>\n",
              "      <td>0.210563</td>\n",
              "      <td>0.666667</td>\n",
              "      <td>0.999497</td>\n",
              "    </tr>\n",
              "    <tr>\n",
              "      <th>32487</th>\n",
              "      <td>0.000000</td>\n",
              "      <td>0.339514</td>\n",
              "      <td>0.105764</td>\n",
              "      <td>0.153928</td>\n",
              "      <td>0.634163</td>\n",
              "      <td>0.480861</td>\n",
              "      <td>0.219981</td>\n",
              "      <td>0.666667</td>\n",
              "      <td>0.999346</td>\n",
              "    </tr>\n",
              "    <tr>\n",
              "      <th>32488</th>\n",
              "      <td>0.000000</td>\n",
              "      <td>0.339514</td>\n",
              "      <td>0.105764</td>\n",
              "      <td>0.153928</td>\n",
              "      <td>0.632927</td>\n",
              "      <td>0.484597</td>\n",
              "      <td>0.224518</td>\n",
              "      <td>0.666667</td>\n",
              "      <td>0.999346</td>\n",
              "    </tr>\n",
              "    <tr>\n",
              "      <th>32489</th>\n",
              "      <td>0.000000</td>\n",
              "      <td>0.339514</td>\n",
              "      <td>0.105764</td>\n",
              "      <td>0.153928</td>\n",
              "      <td>0.632646</td>\n",
              "      <td>0.479634</td>\n",
              "      <td>0.221544</td>\n",
              "      <td>0.666667</td>\n",
              "      <td>0.999440</td>\n",
              "    </tr>\n",
              "    <tr>\n",
              "      <th>32490</th>\n",
              "      <td>0.000000</td>\n",
              "      <td>0.339514</td>\n",
              "      <td>0.105764</td>\n",
              "      <td>0.153928</td>\n",
              "      <td>0.632646</td>\n",
              "      <td>0.480984</td>\n",
              "      <td>0.221351</td>\n",
              "      <td>0.666667</td>\n",
              "      <td>0.999440</td>\n",
              "    </tr>\n",
              "  </tbody>\n",
              "</table>\n",
              "<p>32491 rows × 9 columns</p>\n",
              "</div>"
            ],
            "text/plain": [
              "             ID       Lat      Long      Time  county_fips       lat  \\\n",
              "0      0.848767  0.000000  0.005853  0.000000     0.493338  0.376633   \n",
              "1      0.241173  0.511937  0.226631  0.000534     0.493338  0.376633   \n",
              "2      0.647235  0.239315  0.327340  0.001069     0.493338  0.376633   \n",
              "3      0.864424  0.000000  0.005853  0.001603     0.493338  0.376633   \n",
              "4      0.830779  0.337906  0.519252  0.001603     0.493338  0.376633   \n",
              "...         ...       ...       ...       ...          ...       ...   \n",
              "32486  0.000000  0.339514  0.105764  0.153928     0.633882  0.488402   \n",
              "32487  0.000000  0.339514  0.105764  0.153928     0.634163  0.480861   \n",
              "32488  0.000000  0.339514  0.105764  0.153928     0.632927  0.484597   \n",
              "32489  0.000000  0.339514  0.105764  0.153928     0.632646  0.479634   \n",
              "32490  0.000000  0.339514  0.105764  0.153928     0.632646  0.480984   \n",
              "\n",
              "            lng   ranking        id  \n",
              "0      0.156912  0.666667  0.000000  \n",
              "1      0.156912  0.666667  0.000000  \n",
              "2      0.156912  0.666667  0.000000  \n",
              "3      0.156912  0.666667  0.000000  \n",
              "4      0.156912  0.666667  0.000000  \n",
              "...         ...       ...       ...  \n",
              "32486  0.210563  0.666667  0.999497  \n",
              "32487  0.219981  0.666667  0.999346  \n",
              "32488  0.224518  0.666667  0.999346  \n",
              "32489  0.221544  0.666667  0.999440  \n",
              "32490  0.221351  0.666667  0.999440  \n",
              "\n",
              "[32491 rows x 9 columns]"
            ]
          },
          "execution_count": 251,
          "metadata": {},
          "output_type": "execute_result"
        }
      ],
      "source": [
        "df0 = min_max_normallize(df)\n",
        "df0"
      ]
    },
    {
      "cell_type": "markdown",
      "metadata": {},
      "source": [
        "# dataframe to array "
      ]
    },
    {
      "cell_type": "code",
      "execution_count": 252,
      "metadata": {},
      "outputs": [
        {
          "data": {
            "text/plain": [
              "array([[0.84876749, 0.        , 0.00585259, ..., 0.15691182, 0.66666667,\n",
              "        0.        ],\n",
              "       [0.24117255, 0.51193717, 0.22663063, ..., 0.15691182, 0.66666667,\n",
              "        0.        ],\n",
              "       [0.64723518, 0.23931475, 0.3273396 , ..., 0.15691182, 0.66666667,\n",
              "        0.        ],\n",
              "       ...,\n",
              "       [0.        , 0.33951372, 0.10576398, ..., 0.22451848, 0.66666667,\n",
              "        0.9993457 ],\n",
              "       [0.        , 0.33951372, 0.10576398, ..., 0.22154409, 0.66666667,\n",
              "        0.99944012],\n",
              "       [0.        , 0.33951372, 0.10576398, ..., 0.2213511 , 0.66666667,\n",
              "        0.99944013]])"
            ]
          },
          "execution_count": 252,
          "metadata": {},
          "output_type": "execute_result"
        }
      ],
      "source": [
        "df_norm = np.array(df0)\n",
        "df_norm"
      ]
    },
    {
      "cell_type": "code",
      "execution_count": 253,
      "metadata": {},
      "outputs": [
        {
          "name": "stdout",
          "output_type": "stream",
          "text": [
            "n_samples: 32491, n_features: 9\n"
          ]
        }
      ],
      "source": [
        "print(f\"n_samples: {df_norm.shape[0]}, n_features: {df_norm.shape[1]}\")"
      ]
    },
    {
      "cell_type": "markdown",
      "metadata": {},
      "source": [
        "# n_samples: 32491, n_features: 9"
      ]
    },
    {
      "cell_type": "markdown",
      "metadata": {},
      "source": [
        "# start algoritmh\n",
        "## 1.DBSCAN\n",
        "## 2.K_Means\n",
        "## 3.Hrirical\n",
        "## 4.Mane_shift"
      ]
    },
    {
      "cell_type": "code",
      "execution_count": 283,
      "metadata": {},
      "outputs": [],
      "source": [
        "from sklearn.preprocessing import StandardScaler"
      ]
    },
    {
      "cell_type": "markdown",
      "metadata": {},
      "source": [
        "# DBscan"
      ]
    },
    {
      "cell_type": "markdown",
      "metadata": {},
      "source": [
        "Perform DBSCAN clustering from vector array or distance matrix.\n",
        "\n",
        "DBSCAN - Density-Based Spatial Clustering of Applications with Noise. Finds core samples of high density and expands clusters from them. Good for data which contains clusters of similar density."
      ]
    },
    {
      "cell_type": "markdown",
      "metadata": {},
      "source": [
        "class sklearn.cluster.DBSCAN(eps=0.5, *, min_samples=5, metric='euclidean', metric_params=None, algorithm='auto', leaf_size=30, p=None, n_jobs=None)[source]"
      ]
    },
    {
      "cell_type": "code",
      "execution_count": 3,
      "metadata": {},
      "outputs": [
        {
          "ename": "",
          "evalue": "",
          "output_type": "error",
          "traceback": [
            "\u001b[1;31mThe Kernel crashed while executing code in the current cell or a previous cell. \n",
            "\u001b[1;31mPlease review the code in the cell(s) to identify a possible cause of the failure. \n",
            "\u001b[1;31mClick <a href='https://aka.ms/vscodeJupyterKernelCrash'>here</a> for more info. \n",
            "\u001b[1;31mView Jupyter <a href='command:jupyter.viewOutput'>log</a> for further details."
          ]
        }
      ],
      "source": [
        "from sklearn.cluster import DBSCAN"
      ]
    },
    {
      "cell_type": "code",
      "execution_count": 301,
      "metadata": {},
      "outputs": [],
      "source": [
        "import matplotlib.pyplot as plt"
      ]
    },
    {
      "cell_type": "markdown",
      "metadata": {},
      "source": [
        "# plot data"
      ]
    },
    {
      "cell_type": "code",
      "execution_count": 302,
      "metadata": {},
      "outputs": [
        {
          "data": {
            "image/png": "[encoded data removed]",
            "text/plain": [
              "<Figure size 640x480 with 1 Axes>"
            ]
          },
          "metadata": {},
          "output_type": "display_data"
        }
      ],
      "source": [
        "\n",
        "plt.scatter(df_norm[:, 0], df_norm[:, 1])\n",
        "plt.show()"
      ]
    },
    {
      "cell_type": "markdown",
      "metadata": {},
      "source": [
        "dbscan method"
      ]
    },
    {
      "cell_type": "code",
      "execution_count": 386,
      "metadata": {},
      "outputs": [
        {
          "name": "stdout",
          "output_type": "stream",
          "text": [
            "Estimated number of clusters: 6\n",
            "Estimated number of noise points: 25\n"
          ]
        }
      ],
      "source": [
        "db = DBSCAN(eps=0.3, min_samples=10).fit(df_norm)\n",
        "labels = db.labels_\n",
        "\n",
        "# Number of clusters in labels, ignoring noise if present.\n",
        "n_clusters_ = len(set(labels)) - (1 if -1 in labels else 0)\n",
        "n_noise_ = list(labels).count(-1)\n",
        "\n",
        "print(\"Estimated number of clusters: %d\" % n_clusters_)\n",
        "print(\"Estimated number of noise points: %d\" % n_noise_)"
      ]
    },
    {
      "cell_type": "markdown",
      "metadata": {},
      "source": [
        "# #check metrics method\n",
        "homogeneity_score,completeness_score,v_measure_score,adjusted_rand_score,adjusted_mutual_info_score,silhouette_score"
      ]
    },
    {
      "cell_type": "code",
      "execution_count": 387,
      "metadata": {},
      "outputs": [],
      "source": [
        "from sklearn import metrics"
      ]
    },
    {
      "cell_type": "code",
      "execution_count": 388,
      "metadata": {},
      "outputs": [
        {
          "name": "stdout",
          "output_type": "stream",
          "text": [
            "Homogeneity: 1.000\n",
            "Completeness: 1.000\n",
            "V-measure: 1.000\n",
            "Adjusted Rand Index: 1.000\n",
            "Adjusted Mutual Information: 1.000\n",
            "Silhouette Coefficient: 0.379\n"
          ]
        }
      ],
      "source": [
        "print(f\"Homogeneity: {metrics.homogeneity_score(labels, labels):.3f}\")\n",
        "print(f\"Completeness: {metrics.completeness_score(labels, labels):.3f}\")\n",
        "print(f\"V-measure: {metrics.v_measure_score(labels, labels):.3f}\")\n",
        "print(f\"Adjusted Rand Index: {metrics.adjusted_rand_score(labels, labels):.3f}\")\n",
        "print(\n",
        "    \"Adjusted Mutual Information:\"\n",
        "    f\" {metrics.adjusted_mutual_info_score(labels, labels):.3f}\"\n",
        ")\n",
        "print(f\"Silhouette Coefficient: {metrics.silhouette_score(df_norm, labels):.3f}\")"
      ]
    },
    {
      "cell_type": "markdown",
      "metadata": {},
      "source": [
        "# plot dbscan"
      ]
    },
    {
      "cell_type": "code",
      "execution_count": 406,
      "metadata": {},
      "outputs": [
        {
          "data": {
            "image/png": "[encoded data removed]",
            "text/plain": [
              "<Figure size 640x480 with 1 Axes>"
            ]
          },
          "metadata": {},
          "output_type": "display_data"
        }
      ],
      "source": [
        "unique_labels = set(labels)\n",
        "core_samples_mask = np.zeros_like(labels, dtype=bool)\n",
        "core_samples_mask[db.core_sample_indices_] = True\n",
        "\n",
        "colors = [plt.cm.Spectral(each) for each in np.linspace(0, 1, len(unique_labels))]\n",
        "for k, col in zip(unique_labels, colors):\n",
        "    if k == -1:\n",
        "        # Black used for noise.\n",
        "        col = [0, 0, 0, 1]\n",
        "\n",
        "    class_member_mask = labels == k\n",
        "\n",
        "    xy = df_norm[class_member_mask & core_samples_mask]\n",
        "    plt.plot(\n",
        "        xy[:, 0],\n",
        "        xy[:, 1],\n",
        "        \"o\",\n",
        "        markerfacecolor=tuple(col),\n",
        "        markeredgecolor=\"k\",\n",
        "        markersize=14,\n",
        "    )\n",
        "\n",
        "    xy = df_norm[class_member_mask & ~core_samples_mask]\n",
        "    plt.plot(\n",
        "        xy[:, 0],\n",
        "        xy[:, 1],\n",
        "        \"o\",\n",
        "        markerfacecolor=tuple(col),\n",
        "        markeredgecolor=\"k\",\n",
        "        markersize=6,\n",
        "    )\n",
        "\n",
        "plt.title(f\"Estimated number of clusters: {n_clusters_}\")\n",
        "plt.show()"
      ]
    },
    {
      "cell_type": "markdown",
      "metadata": {},
      "source": [
        "# kMeans"
      ]
    },
    {
      "cell_type": "markdown",
      "metadata": {},
      "source": [
        "class sklearn.cluster.KMeans(n_clusters=8, *, init='k-means++', n_init='auto', max_iter=300, tol=0.0001, verbose=0, random_state=None, copy_x=True, algorithm='lloyd')[source]\n"
      ]
    },
    {
      "cell_type": "markdown",
      "metadata": {},
      "source": [
        "The k-means problem is solved using either Lloyd’s or Elkan’s algorithm.\n",
        "\n",
        "The average complexity is given by O(k n T), where n is the number of samples and T is the number of iteration.\n",
        "\n",
        "The worst case complexity is given by O(n^(k+2/p)) with n = n_samples, p = n_features. Refer to “How slow is the k-means method?” D. Arthur and S. Vassilvitskii - SoCG2006. for more details.\n",
        "\n",
        "In practice, the k-means algorithm is very fast (one of the fastest clustering algorithms available), but it falls in local minima. That’s why it can be useful to restart it several times.\n",
        "\n",
        "If the algorithm stops before fully converging (because of tol or max_iter), labels_ and cluster_centers_ will not be consistent, i.e. the cluster_centers_ will not be the means of the points in each cluster. Also, the estimator will reassign labels_ after the last iteration to make labels_ consistent with predict on the training set."
      ]
    },
    {
      "cell_type": "code",
      "execution_count": 260,
      "metadata": {},
      "outputs": [],
      "source": [
        "from sklearn.cluster import KMeans"
      ]
    },
    {
      "cell_type": "markdown",
      "metadata": {},
      "source": [
        "method kmeans"
      ]
    },
    {
      "cell_type": "code",
      "execution_count": 261,
      "metadata": {},
      "outputs": [
        {
          "name": "stderr",
          "output_type": "stream",
          "text": [
            "C:\\Users\\Asus\\AppData\\Local\\Packages\\PythonSoftwareFoundation.Python.3.11_qbz5n2kfra8p0\\LocalCache\\local-packages\\Python311\\site-packages\\sklearn\\cluster\\_kmeans.py:1416: FutureWarning: The default value of `n_init` will change from 10 to 'auto' in 1.4. Set the value of `n_init` explicitly to suppress the warning\n",
            "  super()._check_params_vs_input(X, default_n_init=10)\n"
          ]
        },
        {
          "data": {
            "text/plain": [
              "array([2, 2, 2, ..., 0, 0, 0])"
            ]
          },
          "execution_count": 261,
          "metadata": {},
          "output_type": "execute_result"
        }
      ],
      "source": [
        "km = KMeans(n_clusters=3)\n",
        "km.fit(df_norm)\n",
        "\n",
        "labels = km.labels_\n",
        "labels"
      ]
    },
    {
      "cell_type": "markdown",
      "metadata": {},
      "source": [
        "center cluster"
      ]
    },
    {
      "cell_type": "code",
      "execution_count": 262,
      "metadata": {},
      "outputs": [
        {
          "data": {
            "text/plain": [
              "array([[-7.63278329e-17,  3.39513718e-01,  1.05763979e-01,\n",
              "         1.53928381e-01,  5.87333758e-01,  4.02656105e-01,\n",
              "         2.46420339e-01,  6.51247259e-01,  9.99427035e-01],\n",
              "       [-7.63278329e-17,  3.39513718e-01,  1.05763979e-01,\n",
              "         1.53928381e-01,  2.16612470e-01,  3.82727239e-01,\n",
              "         2.32916947e-01,  6.48480710e-01,  9.99425393e-01],\n",
              "       [ 4.61432084e-01,  3.90903621e-01,  2.52051629e-01,\n",
              "         4.62881190e-01,  5.32339485e-01,  3.47962265e-01,\n",
              "         1.69121409e-01,  6.58676501e-01,  2.88432451e-06]])"
            ]
          },
          "execution_count": 262,
          "metadata": {},
          "output_type": "execute_result"
        }
      ],
      "source": [
        "center = km.cluster_centers_\n",
        "center"
      ]
    },
    {
      "cell_type": "markdown",
      "metadata": {},
      "source": [
        "plot kmeans"
      ]
    },
    {
      "cell_type": "code",
      "execution_count": 269,
      "metadata": {},
      "outputs": [
        {
          "data": {
            "image/png": "[encoded data removed]",
            "text/plain": [
              "<Figure size 640x480 with 1 Axes>"
            ]
          },
          "metadata": {},
          "output_type": "display_data"
        }
      ],
      "source": [
        "plt.scatter(df_norm[:,0], df_norm[:,1], c=labels)\n",
        "plt.scatter(center[:,0], center[:,2], marker='X', s=250)\n",
        "plt.show()"
      ]
    },
    {
      "cell_type": "markdown",
      "metadata": {},
      "source": [
        "inertia kmeans"
      ]
    },
    {
      "cell_type": "code",
      "execution_count": 270,
      "metadata": {},
      "outputs": [
        {
          "data": {
            "text/plain": [
              "1702.751853529304"
            ]
          },
          "execution_count": 270,
          "metadata": {},
          "output_type": "execute_result"
        }
      ],
      "source": [
        "km.inertia_"
      ]
    },
    {
      "cell_type": "markdown",
      "metadata": {},
      "source": [
        "# #check metrics method\n",
        "homogeneity_score,completeness_score,v_measure_score,adjusted_rand_score,adjusted_mutual_info_score,silhouette_score"
      ]
    },
    {
      "cell_type": "code",
      "execution_count": 392,
      "metadata": {},
      "outputs": [],
      "source": [
        "from collections import defaultdict\n",
        "from time import time\n",
        "\n",
        "from sklearn import metrics\n",
        "\n",
        "evaluations = []\n",
        "evaluations_std = []\n",
        "\n",
        "\n",
        "def fit_and_evaluate(km, X, name=None, n_runs=5):\n",
        "    name = km.__class__.__name__ if name is None else name\n",
        "\n",
        "    train_times = []\n",
        "    scores = defaultdict(list)\n",
        "    for seed in range(n_runs):\n",
        "        km.set_params(random_state=seed)\n",
        "        t0 = time()\n",
        "        km.fit(X)\n",
        "        train_times.append(time() - t0)\n",
        "        scores[\"Homogeneity\"].append(metrics.homogeneity_score(labels, km.labels_))\n",
        "        scores[\"Completeness\"].append(metrics.completeness_score(labels, km.labels_))\n",
        "        scores[\"V-measure\"].append(metrics.v_measure_score(labels, km.labels_))\n",
        "        scores[\"Adjusted Rand-Index\"].append(\n",
        "            metrics.adjusted_rand_score(labels, km.labels_)\n",
        "        )\n",
        "        scores[\"Silhouette Coefficient\"].append(\n",
        "            metrics.silhouette_score(X, km.labels_, sample_size=2000)\n",
        "        )\n",
        "    train_times = np.asarray(train_times)\n",
        "\n",
        "    print(f\"clustering done in {train_times.mean():.2f} ± {train_times.std():.2f} s \")\n",
        "    evaluation = {\n",
        "        \"estimator\": name,\n",
        "        \"train_time\": train_times.mean(),\n",
        "    }\n",
        "    evaluation_std = {\n",
        "        \"estimator\": name,\n",
        "        \"train_time\": train_times.std(),\n",
        "    }\n",
        "    for score_name, score_values in scores.items():\n",
        "        mean_score, std_score = np.mean(score_values), np.std(score_values)\n",
        "        print(f\"{score_name}: {mean_score:.3f} ± {std_score:.3f}\")\n",
        "        evaluation[score_name] = mean_score\n",
        "        evaluation_std[score_name] = std_score\n",
        "    evaluations.append(evaluation)\n",
        "    evaluations_std.append(evaluation_std)"
      ]
    },
    {
      "cell_type": "code",
      "execution_count": 396,
      "metadata": {},
      "outputs": [
        {
          "name": "stderr",
          "output_type": "stream",
          "text": [
            "C:\\Users\\Asus\\AppData\\Local\\Packages\\PythonSoftwareFoundation.Python.3.11_qbz5n2kfra8p0\\LocalCache\\local-packages\\Python311\\site-packages\\sklearn\\cluster\\_kmeans.py:1416: FutureWarning: The default value of `n_init` will change from 10 to 'auto' in 1.4. Set the value of `n_init` explicitly to suppress the warning\n",
            "  super()._check_params_vs_input(X, default_n_init=10)\n",
            "C:\\Users\\Asus\\AppData\\Local\\Packages\\PythonSoftwareFoundation.Python.3.11_qbz5n2kfra8p0\\LocalCache\\local-packages\\Python311\\site-packages\\sklearn\\cluster\\_kmeans.py:1416: FutureWarning: The default value of `n_init` will change from 10 to 'auto' in 1.4. Set the value of `n_init` explicitly to suppress the warning\n",
            "  super()._check_params_vs_input(X, default_n_init=10)\n",
            "C:\\Users\\Asus\\AppData\\Local\\Packages\\PythonSoftwareFoundation.Python.3.11_qbz5n2kfra8p0\\LocalCache\\local-packages\\Python311\\site-packages\\sklearn\\cluster\\_kmeans.py:1416: FutureWarning: The default value of `n_init` will change from 10 to 'auto' in 1.4. Set the value of `n_init` explicitly to suppress the warning\n",
            "  super()._check_params_vs_input(X, default_n_init=10)\n",
            "C:\\Users\\Asus\\AppData\\Local\\Packages\\PythonSoftwareFoundation.Python.3.11_qbz5n2kfra8p0\\LocalCache\\local-packages\\Python311\\site-packages\\sklearn\\cluster\\_kmeans.py:1416: FutureWarning: The default value of `n_init` will change from 10 to 'auto' in 1.4. Set the value of `n_init` explicitly to suppress the warning\n",
            "  super()._check_params_vs_input(X, default_n_init=10)\n"
          ]
        },
        {
          "name": "stdout",
          "output_type": "stream",
          "text": [
            "clustering done in 0.08 ± 0.01 s \n",
            "Homogeneity: 0.598 ± 0.000\n",
            "Completeness: 0.343 ± 0.000\n",
            "V-measure: 0.436 ± 0.000\n",
            "Adjusted Rand-Index: 0.249 ± 0.000\n",
            "Silhouette Coefficient: 0.466 ± 0.007\n"
          ]
        },
        {
          "name": "stderr",
          "output_type": "stream",
          "text": [
            "C:\\Users\\Asus\\AppData\\Local\\Packages\\PythonSoftwareFoundation.Python.3.11_qbz5n2kfra8p0\\LocalCache\\local-packages\\Python311\\site-packages\\sklearn\\cluster\\_kmeans.py:1416: FutureWarning: The default value of `n_init` will change from 10 to 'auto' in 1.4. Set the value of `n_init` explicitly to suppress the warning\n",
            "  super()._check_params_vs_input(X, default_n_init=10)\n"
          ]
        }
      ],
      "source": [
        "fit_and_evaluate(km, df_norm, name=\"KMeans\\nwith LSA on tf-idf vectors\")"
      ]
    },
    {
      "cell_type": "code",
      "execution_count": 271,
      "metadata": {},
      "outputs": [
        {
          "data": {
            "text/plain": [
              "[6680.324862152016,\n",
              " 2711.5816662729285,\n",
              " 1702.751853529304,\n",
              " 1456.3733069040284,\n",
              " 1268.7620693786466,\n",
              " 1109.4543810389453,\n",
              " 1009.9702085436394,\n",
              " 939.9164172282599,\n",
              " 859.4539083033977,\n",
              " 781.0752582062137]"
            ]
          },
          "execution_count": 271,
          "metadata": {},
          "output_type": "execute_result"
        }
      ],
      "source": [
        "y = []\n",
        "for k in np.arange(1,11):\n",
        "    kmn=KMeans(n_clusters=k,n_init=2)\n",
        "    kmn.fit(df_norm)\n",
        "    y.append(kmn.inertia_)\n",
        "y"
      ]
    },
    {
      "cell_type": "markdown",
      "metadata": {},
      "source": [
        "# check plot label range 1,11 "
      ]
    },
    {
      "cell_type": "code",
      "execution_count": 272,
      "metadata": {},
      "outputs": [
        {
          "data": {
            "image/png": "[encoded data removed]",
            "text/plain": [
              "<Figure size 640x480 with 1 Axes>"
            ]
          },
          "metadata": {},
          "output_type": "display_data"
        }
      ],
      "source": [
        "plt.plot(np.arange(1,11),y,'o-')\n",
        "plt.xlabel('number of clusters')\n",
        "plt.ylabel('inertia')\n",
        "plt.show()"
      ]
    },
    {
      "cell_type": "markdown",
      "metadata": {},
      "source": [
        "# #check metrics method\n",
        "homogeneity_score,completeness_score,v_measure_score,adjusted_rand_score,adjusted_mutual_info_score,silhouette_score\n",
        "\n",
        "check in 3 timeframe"
      ]
    },
    {
      "cell_type": "code",
      "execution_count": 273,
      "metadata": {},
      "outputs": [],
      "source": [
        "from time import time\n",
        "from sklearn.pipeline import make_pipeline\n",
        "from sklearn.preprocessing import StandardScaler"
      ]
    },
    {
      "cell_type": "code",
      "execution_count": 390,
      "metadata": {},
      "outputs": [],
      "source": [
        "def bench_k_means(kmeans, name, data, labels):\n",
        "    t0 = time()\n",
        "    estimator = make_pipeline(StandardScaler(), kmeans).fit(data)\n",
        "    fit_time = time() - t0\n",
        "    results = [name, fit_time, estimator[-1].inertia_]\n",
        "\n",
        "    # Define the metrics which require only the true labels and estimator\n",
        "    # labels\n",
        "    clustering_metrics = [\n",
        "        metrics.homogeneity_score,\n",
        "        metrics.completeness_score,\n",
        "        metrics.v_measure_score,\n",
        "        metrics.adjusted_rand_score,\n",
        "        metrics.adjusted_mutual_info_score,\n",
        "    ]\n",
        "    results += [m(labels, estimator[-1].labels_) for m in clustering_metrics]\n",
        "\n",
        "    # The silhouette score requires the full dataset\n",
        "    results += [\n",
        "        metrics.silhouette_score(\n",
        "            data,\n",
        "            estimator[-1].labels_,\n",
        "            metric=\"euclidean\",\n",
        "            sample_size=300,\n",
        "        )\n",
        "    ]\n",
        "\n",
        "    # Show the results\n",
        "    formatter_result = (\n",
        "        \"{:9s}\\t{:.3f}s\\t{:.0f}\\t{:.3f}\\t{:.3f}\\t{:.3f}\\t{:.3f}\\t{:.3f}\\t{:.3f}\"\n",
        "    )\n",
        "    print(formatter_result.format(*results))"
      ]
    },
    {
      "cell_type": "code",
      "execution_count": 275,
      "metadata": {},
      "outputs": [],
      "source": [
        "from sklearn.decomposition import PCA"
      ]
    },
    {
      "cell_type": "code",
      "execution_count": 400,
      "metadata": {},
      "outputs": [
        {
          "name": "stdout",
          "output_type": "stream",
          "text": [
            "__________________________________________________________________________________\n",
            "init\t\ttime\tinertia\thomo\tcompl\tv-meas\tARI\tAMI\tsilhouette\n",
            "k-means++\t0.039s\t159836\t0.851\t0.962\t0.903\t0.952\t0.903\t0.401\n",
            "random   \t0.044s\t166698\t0.533\t0.321\t0.400\t0.247\t0.400\t0.458\n",
            "__________________________________________________________________________________\n",
            "k-means++\t0.036s\t159836\t0.851\t0.962\t0.903\t0.952\t0.903\t0.439\n",
            "random   \t0.035s\t166698\t0.533\t0.321\t0.400\t0.247\t0.400\t0.437\n",
            "__________________________________________________________________________________\n",
            "k-means++\t0.037s\t159836\t0.851\t0.962\t0.903\t0.952\t0.903\t0.432\n",
            "random   \t0.041s\t166698\t0.533\t0.321\t0.400\t0.247\t0.400\t0.425\n",
            "__________________________________________________________________________________\n"
          ]
        }
      ],
      "source": [
        "print(82 * \"_\")\n",
        "print(\"init\\t\\ttime\\tinertia\\thomo\\tcompl\\tv-meas\\tARI\\tAMI\\tsilhouette\")\n",
        "for i in range(3):\n",
        "    kmeans = KMeans(init=\"k-means++\", n_clusters=3, n_init=4, random_state=0)\n",
        "    bench_k_means(kmeans=kmeans, name=\"k-means++\", data=df_norm, labels=labels)\n",
        "\n",
        "    kmeans = KMeans(init=\"random\", n_clusters=3, n_init=4, random_state=0)\n",
        "    bench_k_means(kmeans=kmeans, name=\"random\", data=df_norm, labels=labels)\n",
        "    print(82 * \"_\")\n",
        "    "
      ]
    },
    {
      "cell_type": "markdown",
      "metadata": {},
      "source": [
        "# hierarchy"
      ]
    },
    {
      "cell_type": "code",
      "execution_count": 277,
      "metadata": {},
      "outputs": [],
      "source": [
        "from scipy.cluster.hierarchy import linkage, dendrogram, fcluster"
      ]
    },
    {
      "cell_type": "markdown",
      "metadata": {},
      "source": [
        "# dendrogram 1"
      ]
    },
    {
      "cell_type": "markdown",
      "metadata": {},
      "source": [
        " method='complete'"
      ]
    },
    {
      "cell_type": "code",
      "execution_count": 278,
      "metadata": {},
      "outputs": [
        {
          "data": {
            "image/png": "[encoded data removed]",
            "text/plain": [
              "<Figure size 640x480 with 1 Axes>"
            ]
          },
          "metadata": {},
          "output_type": "display_data"
        }
      ],
      "source": [
        "hirarical1 = linkage(df_norm, method='complete')\n",
        "\n",
        "dendrogram(hirarical1)\n",
        "plt.show()"
      ]
    },
    {
      "cell_type": "markdown",
      "metadata": {},
      "source": [
        "# dendrogram 2"
      ]
    },
    {
      "cell_type": "markdown",
      "metadata": {},
      "source": [
        "method='average'"
      ]
    },
    {
      "cell_type": "code",
      "execution_count": 280,
      "metadata": {},
      "outputs": [
        {
          "data": {
            "image/png": "[encoded data removed]",
            "text/plain": [
              "<Figure size 640x480 with 1 Axes>"
            ]
          },
          "metadata": {},
          "output_type": "display_data"
        }
      ],
      "source": [
        "hirarical2 = linkage(df_norm, method='average')\n",
        "\n",
        "\n",
        "dendrogram(hirarical2)\n",
        "plt.show()"
      ]
    },
    {
      "cell_type": "markdown",
      "metadata": {},
      "source": [
        "# dendrogram 3"
      ]
    },
    {
      "cell_type": "markdown",
      "metadata": {},
      "source": [
        "method='single'"
      ]
    },
    {
      "cell_type": "code",
      "execution_count": 282,
      "metadata": {},
      "outputs": [
        {
          "data": {
            "image/png": "[encoded data removed]",
            "text/plain": [
              "<Figure size 640x480 with 1 Axes>"
            ]
          },
          "metadata": {},
          "output_type": "display_data"
        }
      ],
      "source": [
        "hirarical3 = linkage(df_norm, method='single')\n",
        "\n",
        "\n",
        "dendrogram(hirarical3)\n",
        "plt.show()"
      ]
    },
    {
      "cell_type": "markdown",
      "metadata": {},
      "source": [
        "# plot cluster hirarical"
      ]
    },
    {
      "cell_type": "code",
      "execution_count": 288,
      "metadata": {},
      "outputs": [
        {
          "name": "stdout",
          "output_type": "stream",
          "text": [
            "[1 1 1 ... 1 1 1]\n"
          ]
        },
        {
          "data": {
            "image/png": "[encoded data removed]",
            "text/plain": [
              "<Figure size 640x480 with 1 Axes>"
            ]
          },
          "metadata": {},
          "output_type": "display_data"
        }
      ],
      "source": [
        "labels = fcluster(hirarical1, 3, criterion='distance') \n",
        "print(labels)\n",
        "\n",
        "plt.scatter(df_norm[:, 1], df_norm[:, 1], c=labels)\n",
        "plt.show()"
      ]
    },
    {
      "cell_type": "code",
      "execution_count": 289,
      "metadata": {},
      "outputs": [],
      "source": [
        "from sklearn.cluster import AgglomerativeClustering\n",
        "import time as time  "
      ]
    },
    {
      "cell_type": "markdown",
      "metadata": {},
      "source": [
        "Elapsed time\n",
        "Number of points"
      ]
    },
    {
      "cell_type": "code",
      "execution_count": 290,
      "metadata": {},
      "outputs": [
        {
          "name": "stdout",
          "output_type": "stream",
          "text": [
            "Compute unstructured hierarchical clustering...\n",
            "Elapsed time: 27.92s\n",
            "Number of points: 32491\n"
          ]
        }
      ],
      "source": [
        "print(\"Compute unstructured hierarchical clustering...\")\n",
        "st = time.time()\n",
        "ward = AgglomerativeClustering(n_clusters=3, linkage=\"ward\").fit(df_norm)\n",
        "elapsed_time = time.time() - st\n",
        "label = ward.labels_\n",
        "print(f\"Elapsed time: {elapsed_time:.2f}s\")\n",
        "print(f\"Number of points: {label.size}\")"
      ]
    },
    {
      "cell_type": "markdown",
      "metadata": {},
      "source": [
        "# #check metrics method\n",
        "homogeneity_score,completeness_score,v_measure_score,adjusted_rand_score,adjusted_mutual_info_score,silhouette_score\n",
        "\n"
      ]
    },
    {
      "cell_type": "code",
      "execution_count": 327,
      "metadata": {},
      "outputs": [
        {
          "name": "stdout",
          "output_type": "stream",
          "text": [
            "Homogeneity: 1.000\n",
            "Completeness: 1.000\n",
            "V-measure: 1.000\n",
            "Adjusted Rand Index: 1.000\n",
            "Adjusted Mutual Information: 1.000\n",
            "Silhouette Coefficient: 0.636\n"
          ]
        }
      ],
      "source": [
        "print(f\"Homogeneity: {metrics.homogeneity_score(labels, labels):.3f}\")\n",
        "print(f\"Completeness: {metrics.completeness_score(labels, labels):.3f}\")\n",
        "print(f\"V-measure: {metrics.v_measure_score(labels, labels):.3f}\")\n",
        "print(f\"Adjusted Rand Index: {metrics.adjusted_rand_score(labels, labels):.3f}\")\n",
        "print(\n",
        "    \"Adjusted Mutual Information:\"\n",
        "    f\" {metrics.adjusted_mutual_info_score(labels, labels):.3f}\"\n",
        ")\n",
        "print(f\"Silhouette Coefficient: {metrics.silhouette_score(df_norm, labels):.3f}\")"
      ]
    },
    {
      "cell_type": "markdown",
      "metadata": {},
      "source": [
        "# MeanShift"
      ]
    },
    {
      "cell_type": "code",
      "execution_count": 292,
      "metadata": {},
      "outputs": [],
      "source": [
        "from sklearn.cluster import MeanShift, estimate_bandwidth"
      ]
    },
    {
      "cell_type": "markdown",
      "metadata": {},
      "source": [
        "number of estimated clusters"
      ]
    },
    {
      "cell_type": "code",
      "execution_count": 293,
      "metadata": {},
      "outputs": [
        {
          "name": "stdout",
          "output_type": "stream",
          "text": [
            "number of estimated clusters : 20\n"
          ]
        }
      ],
      "source": [
        "bandwidth = estimate_bandwidth(df_norm, quantile=0.2, n_samples=3000)\n",
        "\n",
        "ms = MeanShift(bandwidth=bandwidth, bin_seeding=True)\n",
        "ms.fit(df_norm)\n",
        "labels = ms.labels_\n",
        "cluster_centers = ms.cluster_centers_\n",
        "\n",
        "labels_unique = np.unique(labels)\n",
        "n_clusters_ = len(labels_unique)\n",
        "\n",
        "print(\"number of estimated clusters : %d\" % n_clusters_)"
      ]
    },
    {
      "cell_type": "markdown",
      "metadata": {},
      "source": [
        "# #check metrics method\n",
        "homogeneity_score,completeness_score,v_measure_score,adjusted_rand_score,adjusted_mutual_info_score,silhouette_score\n"
      ]
    },
    {
      "cell_type": "code",
      "execution_count": 328,
      "metadata": {},
      "outputs": [
        {
          "name": "stdout",
          "output_type": "stream",
          "text": [
            "Homogeneity: 1.000\n",
            "Completeness: 1.000\n",
            "V-measure: 1.000\n",
            "Adjusted Rand Index: 1.000\n",
            "Adjusted Mutual Information: 1.000\n",
            "Silhouette Coefficient: 0.636\n"
          ]
        }
      ],
      "source": [
        "print(f\"Homogeneity: {metrics.homogeneity_score(labels, labels):.3f}\")\n",
        "print(f\"Completeness: {metrics.completeness_score(labels, labels):.3f}\")\n",
        "print(f\"V-measure: {metrics.v_measure_score(labels, labels):.3f}\")\n",
        "print(f\"Adjusted Rand Index: {metrics.adjusted_rand_score(labels, labels):.3f}\")\n",
        "print(\n",
        "    \"Adjusted Mutual Information:\"\n",
        "    f\" {metrics.adjusted_mutual_info_score(labels, labels):.3f}\"\n",
        ")\n",
        "print(f\"Silhouette Coefficient: {metrics.silhouette_score(df_norm, labels):.3f}\")"
      ]
    },
    {
      "cell_type": "markdown",
      "metadata": {},
      "source": [
        "plot cluster meanshift"
      ]
    },
    {
      "cell_type": "code",
      "execution_count": 295,
      "metadata": {},
      "outputs": [
        {
          "data": {
            "image/png": "[encoded data removed]",
            "text/plain": [
              "<Figure size 640x480 with 1 Axes>"
            ]
          },
          "metadata": {},
          "output_type": "display_data"
        }
      ],
      "source": [
        "plt.scatter(df_norm[:, 0], df_norm[:, 1], marker='o', s=150, c=labels)\n",
        "plt.scatter(center[:, 0], center[:, 1], marker='x', s=150, c='r')\n",
        "\n",
        "plt.show()"
      ]
    },
    {
      "cell_type": "markdown",
      "metadata": {},
      "source": [
        "# #check metrics method\n",
        "homogeneity_score,completeness_score,v_measure_score,adjusted_rand_score,adjusted_mutual_info_score,silhouette_score\n",
        "# for all cluster and metrics"
      ]
    },
    {
      "cell_type": "code",
      "execution_count": 410,
      "metadata": {},
      "outputs": [
        {
          "name": "stdout",
          "output_type": "stream",
          "text": [
            "__________________________________________________________________________________________________\n",
            "\t\t\t\tMetrics for clustering Method\n",
            "__________________________________________________________________________________________________\n",
            "Method\t\tn_sampel\tn_cluster\tcompl\t v-meas\t  ARI\t  AMI\t\tsilhouette\n",
            "DBSCAN \t\t32491\t\t6\t\t1.000\t 1.000 \t 1.000\t 1.000\t\t0.369 \n",
            "K-means \t32491\t\t2\t\t1.000\t 1.000 \t 1.000\t 1.000\t\t0.474 \n",
            "Hirarical \t32491\t\t3\t\t1.000\t 1.000 \t 1.000\t 1.000\t\t0.379 \n",
            "MeanShift \t32491\t\t2\t\t1.000\t 1.000 \t 1.000\t 1.000\t\t0.379 \n",
            "__________________________________________________________________________________________________\n"
          ]
        }
      ],
      "source": [
        "print(98 * \"_\")\n",
        "print('\\t\\t\\t\\tMetrics for clustering Method')\n",
        "print(98 * \"_\")\n",
        "print(\"Method\\t\\tn_sampel\\tn_cluster\\tcompl\\t v-meas\\t  ARI\\t  AMI\\t\\tsilhouette\")\n",
        "\n",
        "print('DBSCAN', f\"\\t\\t{df_norm.shape[0]}\\t\\t6\\t\\t{metrics.completeness_score(labels, labels):.3f}\\t {metrics.v_measure_score(labels, labels):.3f} \\t {metrics.adjusted_rand_score(labels, labels):.3f}\\t {metrics.adjusted_mutual_info_score(labels, labels):.3f}\\t\\t0.369 \")\n",
        "print('K-means', f\"\\t{df_norm.shape[0]}\\t\\t2\\t\\t{metrics.completeness_score(labels, labels):.3f}\\t {metrics.v_measure_score(labels, labels):.3f} \\t {metrics.adjusted_rand_score(labels, labels):.3f}\\t {metrics.adjusted_mutual_info_score(labels, labels):.3f}\\t\\t0.474 \")\n",
        "print('Hirarical', f\"\\t{df_norm.shape[0]}\\t\\t3\\t\\t{metrics.completeness_score(labels, labels):.3f}\\t {metrics.v_measure_score(labels, labels):.3f} \\t {metrics.adjusted_rand_score(labels, labels):.3f}\\t {metrics.adjusted_mutual_info_score(labels, labels):.3f}\\t\\t{metrics.silhouette_score(df_norm, labels):.3f} \")\n",
        "print('MeanShift', f\"\\t{df_norm.shape[0]}\\t\\t2\\t\\t{metrics.completeness_score(labels, labels):.3f}\\t {metrics.v_measure_score(labels, labels):.3f} \\t {metrics.adjusted_rand_score(labels, labels):.3f}\\t {metrics.adjusted_mutual_info_score(labels, labels):.3f}\\t\\t{metrics.silhouette_score(df_norm, labels):.3f} \")\n",
        "\n",
        "print(98* \"_\")"
      ]
    }
  ],
  "metadata": {
    "colab": {
      "provenance": []
    },
    "kernelspec": {
      "display_name": "Python 3",
      "name": "python3"
    },
    "language_info": {
      "codemirror_mode": {
        "name": "ipython",
        "version": 3
      },
      "file_extension": ".py",
      "mimetype": "text/x-python",
      "name": "python",
      "nbconvert_exporter": "python",
      "pygments_lexer": "ipython3",
      "version": "3.11.8"
    }
  },
  "nbformat": 4,
  "nbformat_minor": 0
}
